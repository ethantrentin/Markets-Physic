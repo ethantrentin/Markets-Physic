{
 "cells": [
  {
   "cell_type": "markdown",
   "metadata": {},
   "source": [
    "## TP 3.1 : Jeu de la minorité avec nombre variable d’agents\n",
    "\n",
    "*Notebook fait par Alexandre Boistard, Ethan Trentin.*"
   ]
  },
  {
   "cell_type": "code",
   "execution_count": 1,
   "metadata": {},
   "outputs": [],
   "source": [
    "import numpy as np"
   ]
  },
  {
   "cell_type": "code",
   "execution_count": null,
   "metadata": {},
   "outputs": [],
   "source": [
    "N_s = 100  \n",
    "P = 1000  \n",
    "epsilon = 0.01  # Performance minimale attendue\n",
    "M = 5  # Nombre de signes de A(t) à considérer\n",
    "\n",
    "# Initialisation des stratégies aléatoires pour chaque spéculateur\n",
    "strategies = np.random.choice([-1, 1], size=(N_s, P))\n",
    "\n",
    "# Initialisation des performances cumulées\n",
    "performance_cumulee = np.zeros(N_s)\n",
    "\n",
    "# Initialisation de mu\n",
    "mu = np.random.randn()\n",
    "\n",
    "# Fonction Heaviside\n",
    "def heaviside(x):\n",
    "    return 0.5 * (np.sign(x) + 1)\n",
    "\n",
    "# Simulation du jeu\n",
    "for t in range(P):\n",
    "    # Calcul de A(t)\n",
    "    A_t = np.sum(strategies[:, t])\n",
    "\n",
    "    # Calcul de la performance de chaque spéculateur\n",
    "    performance = strategies[:, t] * A_t - epsilon\n",
    "\n",
    "    # Mise à jour des performances cumulées\n",
    "    performance_cumulee += performance\n",
    "\n",
    "    # Mise à jour de mu\n",
    "    mu = (2 * mu) % 2 ** M + heaviside(A_t)\n",
    "\n",
    "    # Mise à jour des stratégies en fonction de la performance cumulée\n",
    "    # Par exemple, on peut mettre à jour les stratégies en fonction d'une probabilité basée sur la performance cumulée\n",
    "    prob = np.exp(performance_cumulee) / np.sum(np.exp(performance_cumulee))\n",
    "    for i in range(N_s):\n",
    "        if np.random.rand() < prob[i]:\n",
    "            strategies[i, t] = np.random.choice([-1, 1])\n",
    "\n",
    "# Affichage des résultats\n",
    "print(\"Performance cumulée des spéculateurs:\", performance_cumulee)\n",
    "print(\"Dernière valeur de mu:\", mu)\n"
   ]
  }
 ],
 "metadata": {
  "kernelspec": {
   "display_name": "base",
   "language": "python",
   "name": "python3"
  },
  "language_info": {
   "codemirror_mode": {
    "name": "ipython",
    "version": 3
   },
   "file_extension": ".py",
   "mimetype": "text/x-python",
   "name": "python",
   "nbconvert_exporter": "python",
   "pygments_lexer": "ipython3",
   "version": "3.8.8"
  }
 },
 "nbformat": 4,
 "nbformat_minor": 2
}
