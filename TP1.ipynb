{
 "cells": [
  {
   "cell_type": "markdown",
   "metadata": {},
   "source": [
    "## TP1 Physique des marchés : faits stylisés\n",
    "\n",
    "*Notebook réalisé par Alexandre Boistard, Ethan Trentin*"
   ]
  },
  {
   "cell_type": "markdown",
   "metadata": {},
   "source": [
    "### 2. Obtenir des données\n",
    "#### 2.1 Données journalières"
   ]
  },
  {
   "cell_type": "code",
   "execution_count": 1,
   "metadata": {},
   "outputs": [],
   "source": [
    "import yfinance as yf\n",
    "import pandas as pd\n",
    "import numpy as np\n",
    "import matplotlib.pyplot as plt\n",
    "import scipy.stats as stats\n",
    "from statsmodels.distributions.empirical_distribution import ECDF\n",
    "import sys"
   ]
  },
  {
   "cell_type": "code",
   "execution_count": 2,
   "metadata": {},
   "outputs": [
    {
     "name": "stdout",
     "output_type": "stream",
     "text": [
      "YF.download() has changed argument auto_adjust default to True\n"
     ]
    },
    {
     "name": "stderr",
     "output_type": "stream",
     "text": [
      "[*********************100%***********************]  1 of 1 completed\n"
     ]
    },
    {
     "data": {
      "image/png": "[encoded data removed]",
      "text/plain": [
       "<Figure size 432x288 with 1 Axes>"
      ]
     },
     "metadata": {
      "needs_background": "light"
     },
     "output_type": "display_data"
    }
   ],
   "source": [
    "AAPL_daily = yf.download('AAPL', start='2000-01-01', end='2025-01-01')\n",
    "AAPL_daily['Close'].plot()\n",
    "plt.show()"
   ]
  },
  {
   "cell_type": "code",
   "execution_count": 3,
   "metadata": {},
   "outputs": [
    {
     "data": {
      "text/html": [
       "<div>\n",
       "<style scoped>\n",
       "    .dataframe tbody tr th:only-of-type {\n",
       "        vertical-align: middle;\n",
       "    }\n",
       "\n",
       "    .dataframe tbody tr th {\n",
       "        vertical-align: top;\n",
       "    }\n",
       "\n",
       "    .dataframe thead tr th {\n",
       "        text-align: left;\n",
       "    }\n",
       "\n",
       "    .dataframe thead tr:last-of-type th {\n",
       "        text-align: right;\n",
       "    }\n",
       "</style>\n",
       "<table border=\"1\" class=\"dataframe\">\n",
       "  <thead>\n",
       "    <tr>\n",
       "      <th>Price</th>\n",
       "      <th>Close</th>\n",
       "      <th>High</th>\n",
       "      <th>Low</th>\n",
       "      <th>Open</th>\n",
       "      <th>Volume</th>\n",
       "    </tr>\n",
       "    <tr>\n",
       "      <th>Ticker</th>\n",
       "      <th>AAPL</th>\n",
       "      <th>AAPL</th>\n",
       "      <th>AAPL</th>\n",
       "      <th>AAPL</th>\n",
       "      <th>AAPL</th>\n",
       "    </tr>\n",
       "    <tr>\n",
       "      <th>Date</th>\n",
       "      <th></th>\n",
       "      <th></th>\n",
       "      <th></th>\n",
       "      <th></th>\n",
       "      <th></th>\n",
       "    </tr>\n",
       "  </thead>\n",
       "  <tbody>\n",
       "    <tr>\n",
       "      <th>2000-01-03</th>\n",
       "      <td>0.842150</td>\n",
       "      <td>0.846382</td>\n",
       "      <td>0.765036</td>\n",
       "      <td>0.789017</td>\n",
       "      <td>535796800</td>\n",
       "    </tr>\n",
       "    <tr>\n",
       "      <th>2000-01-04</th>\n",
       "      <td>0.771149</td>\n",
       "      <td>0.832276</td>\n",
       "      <td>0.761274</td>\n",
       "      <td>0.814408</td>\n",
       "      <td>512377600</td>\n",
       "    </tr>\n",
       "    <tr>\n",
       "      <th>2000-01-05</th>\n",
       "      <td>0.782433</td>\n",
       "      <td>0.831806</td>\n",
       "      <td>0.774910</td>\n",
       "      <td>0.780552</td>\n",
       "      <td>778321600</td>\n",
       "    </tr>\n",
       "    <tr>\n",
       "      <th>2000-01-06</th>\n",
       "      <td>0.714723</td>\n",
       "      <td>0.805004</td>\n",
       "      <td>0.714723</td>\n",
       "      <td>0.798421</td>\n",
       "      <td>767972800</td>\n",
       "    </tr>\n",
       "    <tr>\n",
       "      <th>2000-01-07</th>\n",
       "      <td>0.748578</td>\n",
       "      <td>0.759864</td>\n",
       "      <td>0.718485</td>\n",
       "      <td>0.726008</td>\n",
       "      <td>460734400</td>\n",
       "    </tr>\n",
       "    <tr>\n",
       "      <th>...</th>\n",
       "      <td>...</td>\n",
       "      <td>...</td>\n",
       "      <td>...</td>\n",
       "      <td>...</td>\n",
       "      <td>...</td>\n",
       "    </tr>\n",
       "    <tr>\n",
       "      <th>2024-12-24</th>\n",
       "      <td>257.916443</td>\n",
       "      <td>257.926411</td>\n",
       "      <td>255.009620</td>\n",
       "      <td>255.209412</td>\n",
       "      <td>23234700</td>\n",
       "    </tr>\n",
       "    <tr>\n",
       "      <th>2024-12-26</th>\n",
       "      <td>258.735504</td>\n",
       "      <td>259.814335</td>\n",
       "      <td>257.347047</td>\n",
       "      <td>257.906429</td>\n",
       "      <td>27237100</td>\n",
       "    </tr>\n",
       "    <tr>\n",
       "      <th>2024-12-27</th>\n",
       "      <td>255.309296</td>\n",
       "      <td>258.415896</td>\n",
       "      <td>252.782075</td>\n",
       "      <td>257.546826</td>\n",
       "      <td>42355300</td>\n",
       "    </tr>\n",
       "    <tr>\n",
       "      <th>2024-12-30</th>\n",
       "      <td>251.923019</td>\n",
       "      <td>253.221595</td>\n",
       "      <td>250.474615</td>\n",
       "      <td>251.952985</td>\n",
       "      <td>35557500</td>\n",
       "    </tr>\n",
       "    <tr>\n",
       "      <th>2024-12-31</th>\n",
       "      <td>250.144974</td>\n",
       "      <td>253.001833</td>\n",
       "      <td>249.156056</td>\n",
       "      <td>252.162760</td>\n",
       "      <td>39480700</td>\n",
       "    </tr>\n",
       "  </tbody>\n",
       "</table>\n",
       "<p>6289 rows × 5 columns</p>\n",
       "</div>"
      ],
      "text/plain": [
       "Price            Close        High         Low        Open     Volume\n",
       "Ticker            AAPL        AAPL        AAPL        AAPL       AAPL\n",
       "Date                                                                 \n",
       "2000-01-03    0.842150    0.846382    0.765036    0.789017  535796800\n",
       "2000-01-04    0.771149    0.832276    0.761274    0.814408  512377600\n",
       "2000-01-05    0.782433    0.831806    0.774910    0.780552  778321600\n",
       "2000-01-06    0.714723    0.805004    0.714723    0.798421  767972800\n",
       "2000-01-07    0.748578    0.759864    0.718485    0.726008  460734400\n",
       "...                ...         ...         ...         ...        ...\n",
       "2024-12-24  257.916443  257.926411  255.009620  255.209412   23234700\n",
       "2024-12-26  258.735504  259.814335  257.347047  257.906429   27237100\n",
       "2024-12-27  255.309296  258.415896  252.782075  257.546826   42355300\n",
       "2024-12-30  251.923019  253.221595  250.474615  251.952985   35557500\n",
       "2024-12-31  250.144974  253.001833  249.156056  252.162760   39480700\n",
       "\n",
       "[6289 rows x 5 columns]"
      ]
     },
     "execution_count": 3,
     "metadata": {},
     "output_type": "execute_result"
    }
   ],
   "source": [
    "AAPL_daily"
   ]
  },
  {
   "cell_type": "markdown",
   "metadata": {},
   "source": [
    "#### 2.2 Données intraday"
   ]
  },
  {
   "cell_type": "code",
   "execution_count": 4,
   "metadata": {},
   "outputs": [],
   "source": [
    "def load_TRTH_bbo(filename,\n",
    "             tz_exchange=\"America/New_York\",\n",
    "             open_time=\"09:30:00\",\n",
    "             close_time=\"16:00:00\",\n",
    "             only_regular_trading_hours=True):\n",
    "    \n",
    "    DF = pd.read_csv(filename)\n",
    "\n",
    "    DF.index = pd.to_datetime(DF[\"xltime\"],unit=\"d\",origin=\"1899-12-30\",utc=True)\n",
    "    DF.index = DF.index.tz_convert(tz_exchange)  # .P stands for Arca, which is based at New York\n",
    "    DF.drop(columns=\"xltime\",inplace=True)\n",
    "    \n",
    "    if only_regular_trading_hours:\n",
    "        DF=DF.between_time(open_time,close_time)    # warning: ever heard e.g. about Thanksgivings?\n",
    "        \n",
    "    return DF"
   ]
  },
  {
   "cell_type": "code",
   "execution_count": 5,
   "metadata": {},
   "outputs": [
    {
     "data": {
      "text/html": [
       "<div>\n",
       "<style scoped>\n",
       "    .dataframe tbody tr th:only-of-type {\n",
       "        vertical-align: middle;\n",
       "    }\n",
       "\n",
       "    .dataframe tbody tr th {\n",
       "        vertical-align: top;\n",
       "    }\n",
       "\n",
       "    .dataframe thead th {\n",
       "        text-align: right;\n",
       "    }\n",
       "</style>\n",
       "<table border=\"1\" class=\"dataframe\">\n",
       "  <thead>\n",
       "    <tr style=\"text-align: right;\">\n",
       "      <th></th>\n",
       "      <th>bid-price</th>\n",
       "      <th>bid-volume</th>\n",
       "      <th>ask-price</th>\n",
       "      <th>ask-volume</th>\n",
       "    </tr>\n",
       "    <tr>\n",
       "      <th>xltime</th>\n",
       "      <th></th>\n",
       "      <th></th>\n",
       "      <th></th>\n",
       "      <th></th>\n",
       "    </tr>\n",
       "  </thead>\n",
       "  <tbody>\n",
       "    <tr>\n",
       "      <th>2017-01-03 09:30:00.074000384-05:00</th>\n",
       "      <td>115.81</td>\n",
       "      <td>5</td>\n",
       "      <td>115.82</td>\n",
       "      <td>415</td>\n",
       "    </tr>\n",
       "    <tr>\n",
       "      <th>2017-01-03 09:30:00.074000384-05:00</th>\n",
       "      <td>115.80</td>\n",
       "      <td>4</td>\n",
       "      <td>115.82</td>\n",
       "      <td>415</td>\n",
       "    </tr>\n",
       "    <tr>\n",
       "      <th>2017-01-03 09:30:00.083000832-05:00</th>\n",
       "      <td>115.80</td>\n",
       "      <td>18</td>\n",
       "      <td>115.82</td>\n",
       "      <td>415</td>\n",
       "    </tr>\n",
       "    <tr>\n",
       "      <th>2017-01-03 09:30:00.093000448-05:00</th>\n",
       "      <td>115.80</td>\n",
       "      <td>18</td>\n",
       "      <td>115.82</td>\n",
       "      <td>475</td>\n",
       "    </tr>\n",
       "    <tr>\n",
       "      <th>2017-01-03 09:30:00.113000192-05:00</th>\n",
       "      <td>115.80</td>\n",
       "      <td>18</td>\n",
       "      <td>115.82</td>\n",
       "      <td>474</td>\n",
       "    </tr>\n",
       "    <tr>\n",
       "      <th>...</th>\n",
       "      <td>...</td>\n",
       "      <td>...</td>\n",
       "      <td>...</td>\n",
       "      <td>...</td>\n",
       "    </tr>\n",
       "    <tr>\n",
       "      <th>2017-01-03 16:00:00-05:00</th>\n",
       "      <td>116.13</td>\n",
       "      <td>234</td>\n",
       "      <td>116.15</td>\n",
       "      <td>11</td>\n",
       "    </tr>\n",
       "    <tr>\n",
       "      <th>2017-01-03 16:00:00-05:00</th>\n",
       "      <td>116.13</td>\n",
       "      <td>173</td>\n",
       "      <td>116.15</td>\n",
       "      <td>11</td>\n",
       "    </tr>\n",
       "    <tr>\n",
       "      <th>2017-01-03 16:00:00-05:00</th>\n",
       "      <td>116.13</td>\n",
       "      <td>169</td>\n",
       "      <td>116.15</td>\n",
       "      <td>11</td>\n",
       "    </tr>\n",
       "    <tr>\n",
       "      <th>2017-01-03 16:00:00-05:00</th>\n",
       "      <td>116.13</td>\n",
       "      <td>169</td>\n",
       "      <td>116.15</td>\n",
       "      <td>10</td>\n",
       "    </tr>\n",
       "    <tr>\n",
       "      <th>2017-01-03 16:00:00-05:00</th>\n",
       "      <td>116.13</td>\n",
       "      <td>169</td>\n",
       "      <td>116.15</td>\n",
       "      <td>11</td>\n",
       "    </tr>\n",
       "  </tbody>\n",
       "</table>\n",
       "<p>465117 rows × 4 columns</p>\n",
       "</div>"
      ],
      "text/plain": [
       "                                     bid-price  bid-volume  ask-price  \\\n",
       "xltime                                                                  \n",
       "2017-01-03 09:30:00.074000384-05:00     115.81           5     115.82   \n",
       "2017-01-03 09:30:00.074000384-05:00     115.80           4     115.82   \n",
       "2017-01-03 09:30:00.083000832-05:00     115.80          18     115.82   \n",
       "2017-01-03 09:30:00.093000448-05:00     115.80          18     115.82   \n",
       "2017-01-03 09:30:00.113000192-05:00     115.80          18     115.82   \n",
       "...                                        ...         ...        ...   \n",
       "2017-01-03 16:00:00-05:00               116.13         234     116.15   \n",
       "2017-01-03 16:00:00-05:00               116.13         173     116.15   \n",
       "2017-01-03 16:00:00-05:00               116.13         169     116.15   \n",
       "2017-01-03 16:00:00-05:00               116.13         169     116.15   \n",
       "2017-01-03 16:00:00-05:00               116.13         169     116.15   \n",
       "\n",
       "                                     ask-volume  \n",
       "xltime                                           \n",
       "2017-01-03 09:30:00.074000384-05:00         415  \n",
       "2017-01-03 09:30:00.074000384-05:00         415  \n",
       "2017-01-03 09:30:00.083000832-05:00         415  \n",
       "2017-01-03 09:30:00.093000448-05:00         475  \n",
       "2017-01-03 09:30:00.113000192-05:00         474  \n",
       "...                                         ...  \n",
       "2017-01-03 16:00:00-05:00                    11  \n",
       "2017-01-03 16:00:00-05:00                    11  \n",
       "2017-01-03 16:00:00-05:00                    11  \n",
       "2017-01-03 16:00:00-05:00                    10  \n",
       "2017-01-03 16:00:00-05:00                    11  \n",
       "\n",
       "[465117 rows x 4 columns]"
      ]
     },
     "execution_count": 5,
     "metadata": {},
     "output_type": "execute_result"
    }
   ],
   "source": [
    "Path = sys.path[0]\n",
    "AAPL_intraday = load_TRTH_bbo(Path+\"\\\\2017-01-03-AAPL.OQ-bbo.csv.gz\")\n",
    "AAPL_intraday"
   ]
  },
  {
   "cell_type": "markdown",
   "metadata": {},
   "source": [
    "### 3. Calcul des rendements\n",
    "#### 3.1 Données journalières"
   ]
  },
  {
   "cell_type": "code",
   "execution_count": 6,
   "metadata": {},
   "outputs": [
    {
     "data": {
      "text/html": [
       "<div>\n",
       "<style scoped>\n",
       "    .dataframe tbody tr th:only-of-type {\n",
       "        vertical-align: middle;\n",
       "    }\n",
       "\n",
       "    .dataframe tbody tr th {\n",
       "        vertical-align: top;\n",
       "    }\n",
       "\n",
       "    .dataframe thead tr th {\n",
       "        text-align: left;\n",
       "    }\n",
       "\n",
       "    .dataframe thead tr:last-of-type th {\n",
       "        text-align: right;\n",
       "    }\n",
       "</style>\n",
       "<table border=\"1\" class=\"dataframe\">\n",
       "  <thead>\n",
       "    <tr>\n",
       "      <th>Price</th>\n",
       "      <th>Close</th>\n",
       "      <th>High</th>\n",
       "      <th>Low</th>\n",
       "      <th>Open</th>\n",
       "      <th>Volume</th>\n",
       "      <th>Log Returns</th>\n",
       "    </tr>\n",
       "    <tr>\n",
       "      <th>Ticker</th>\n",
       "      <th>AAPL</th>\n",
       "      <th>AAPL</th>\n",
       "      <th>AAPL</th>\n",
       "      <th>AAPL</th>\n",
       "      <th>AAPL</th>\n",
       "      <th></th>\n",
       "    </tr>\n",
       "    <tr>\n",
       "      <th>Date</th>\n",
       "      <th></th>\n",
       "      <th></th>\n",
       "      <th></th>\n",
       "      <th></th>\n",
       "      <th></th>\n",
       "      <th></th>\n",
       "    </tr>\n",
       "  </thead>\n",
       "  <tbody>\n",
       "    <tr>\n",
       "      <th>2000-01-04</th>\n",
       "      <td>0.771149</td>\n",
       "      <td>0.832276</td>\n",
       "      <td>0.761274</td>\n",
       "      <td>0.814408</td>\n",
       "      <td>512377600</td>\n",
       "      <td>-0.088077</td>\n",
       "    </tr>\n",
       "    <tr>\n",
       "      <th>2000-01-05</th>\n",
       "      <td>0.782433</td>\n",
       "      <td>0.831806</td>\n",
       "      <td>0.774910</td>\n",
       "      <td>0.780552</td>\n",
       "      <td>778321600</td>\n",
       "      <td>0.014527</td>\n",
       "    </tr>\n",
       "    <tr>\n",
       "      <th>2000-01-06</th>\n",
       "      <td>0.714723</td>\n",
       "      <td>0.805004</td>\n",
       "      <td>0.714723</td>\n",
       "      <td>0.798421</td>\n",
       "      <td>767972800</td>\n",
       "      <td>-0.090514</td>\n",
       "    </tr>\n",
       "    <tr>\n",
       "      <th>2000-01-07</th>\n",
       "      <td>0.748578</td>\n",
       "      <td>0.759864</td>\n",
       "      <td>0.718485</td>\n",
       "      <td>0.726008</td>\n",
       "      <td>460734400</td>\n",
       "      <td>0.046281</td>\n",
       "    </tr>\n",
       "    <tr>\n",
       "      <th>2000-01-10</th>\n",
       "      <td>0.735412</td>\n",
       "      <td>0.769267</td>\n",
       "      <td>0.712842</td>\n",
       "      <td>0.767386</td>\n",
       "      <td>505064000</td>\n",
       "      <td>-0.017744</td>\n",
       "    </tr>\n",
       "    <tr>\n",
       "      <th>...</th>\n",
       "      <td>...</td>\n",
       "      <td>...</td>\n",
       "      <td>...</td>\n",
       "      <td>...</td>\n",
       "      <td>...</td>\n",
       "      <td>...</td>\n",
       "    </tr>\n",
       "    <tr>\n",
       "      <th>2024-12-24</th>\n",
       "      <td>257.916443</td>\n",
       "      <td>257.926411</td>\n",
       "      <td>255.009620</td>\n",
       "      <td>255.209412</td>\n",
       "      <td>23234700</td>\n",
       "      <td>0.011413</td>\n",
       "    </tr>\n",
       "    <tr>\n",
       "      <th>2024-12-26</th>\n",
       "      <td>258.735504</td>\n",
       "      <td>259.814335</td>\n",
       "      <td>257.347047</td>\n",
       "      <td>257.906429</td>\n",
       "      <td>27237100</td>\n",
       "      <td>0.003171</td>\n",
       "    </tr>\n",
       "    <tr>\n",
       "      <th>2024-12-27</th>\n",
       "      <td>255.309296</td>\n",
       "      <td>258.415896</td>\n",
       "      <td>252.782075</td>\n",
       "      <td>257.546826</td>\n",
       "      <td>42355300</td>\n",
       "      <td>-0.013331</td>\n",
       "    </tr>\n",
       "    <tr>\n",
       "      <th>2024-12-30</th>\n",
       "      <td>251.923019</td>\n",
       "      <td>253.221595</td>\n",
       "      <td>250.474615</td>\n",
       "      <td>251.952985</td>\n",
       "      <td>35557500</td>\n",
       "      <td>-0.013352</td>\n",
       "    </tr>\n",
       "    <tr>\n",
       "      <th>2024-12-31</th>\n",
       "      <td>250.144974</td>\n",
       "      <td>253.001833</td>\n",
       "      <td>249.156056</td>\n",
       "      <td>252.162760</td>\n",
       "      <td>39480700</td>\n",
       "      <td>-0.007083</td>\n",
       "    </tr>\n",
       "  </tbody>\n",
       "</table>\n",
       "<p>6288 rows × 6 columns</p>\n",
       "</div>"
      ],
      "text/plain": [
       "Price            Close        High         Low        Open     Volume  \\\n",
       "Ticker            AAPL        AAPL        AAPL        AAPL       AAPL   \n",
       "Date                                                                    \n",
       "2000-01-04    0.771149    0.832276    0.761274    0.814408  512377600   \n",
       "2000-01-05    0.782433    0.831806    0.774910    0.780552  778321600   \n",
       "2000-01-06    0.714723    0.805004    0.714723    0.798421  767972800   \n",
       "2000-01-07    0.748578    0.759864    0.718485    0.726008  460734400   \n",
       "2000-01-10    0.735412    0.769267    0.712842    0.767386  505064000   \n",
       "...                ...         ...         ...         ...        ...   \n",
       "2024-12-24  257.916443  257.926411  255.009620  255.209412   23234700   \n",
       "2024-12-26  258.735504  259.814335  257.347047  257.906429   27237100   \n",
       "2024-12-27  255.309296  258.415896  252.782075  257.546826   42355300   \n",
       "2024-12-30  251.923019  253.221595  250.474615  251.952985   35557500   \n",
       "2024-12-31  250.144974  253.001833  249.156056  252.162760   39480700   \n",
       "\n",
       "Price      Log Returns  \n",
       "Ticker                  \n",
       "Date                    \n",
       "2000-01-04   -0.088077  \n",
       "2000-01-05    0.014527  \n",
       "2000-01-06   -0.090514  \n",
       "2000-01-07    0.046281  \n",
       "2000-01-10   -0.017744  \n",
       "...                ...  \n",
       "2024-12-24    0.011413  \n",
       "2024-12-26    0.003171  \n",
       "2024-12-27   -0.013331  \n",
       "2024-12-30   -0.013352  \n",
       "2024-12-31   -0.007083  \n",
       "\n",
       "[6288 rows x 6 columns]"
      ]
     },
     "execution_count": 6,
     "metadata": {},
     "output_type": "execute_result"
    }
   ],
   "source": [
    "# Ici les prix sont ajustés automatiquement donc on va calculer\n",
    "# les log-rendements sur la colonne \"Close\"\n",
    "AAPL_daily[\"Log Returns\"] = np.log(AAPL_daily['Close']).diff().values\n",
    "AAPL_daily = AAPL_daily.dropna()\n",
    "AAPL_daily"
   ]
  },
  {
   "cell_type": "markdown",
   "metadata": {},
   "source": [
    "#### 3.2 Données intraday "
   ]
  },
  {
   "cell_type": "code",
   "execution_count": 7,
   "metadata": {},
   "outputs": [
    {
     "data": {
      "text/html": [
       "<div>\n",
       "<style scoped>\n",
       "    .dataframe tbody tr th:only-of-type {\n",
       "        vertical-align: middle;\n",
       "    }\n",
       "\n",
       "    .dataframe tbody tr th {\n",
       "        vertical-align: top;\n",
       "    }\n",
       "\n",
       "    .dataframe thead th {\n",
       "        text-align: right;\n",
       "    }\n",
       "</style>\n",
       "<table border=\"1\" class=\"dataframe\">\n",
       "  <thead>\n",
       "    <tr style=\"text-align: right;\">\n",
       "      <th></th>\n",
       "      <th>bid-price</th>\n",
       "      <th>bid-volume</th>\n",
       "      <th>ask-price</th>\n",
       "      <th>ask-volume</th>\n",
       "      <th>Mid</th>\n",
       "      <th>Returns</th>\n",
       "    </tr>\n",
       "    <tr>\n",
       "      <th>xltime</th>\n",
       "      <th></th>\n",
       "      <th></th>\n",
       "      <th></th>\n",
       "      <th></th>\n",
       "      <th></th>\n",
       "      <th></th>\n",
       "    </tr>\n",
       "  </thead>\n",
       "  <tbody>\n",
       "    <tr>\n",
       "      <th>2017-01-03 09:30:00.074000384-05:00</th>\n",
       "      <td>115.80</td>\n",
       "      <td>4</td>\n",
       "      <td>115.82</td>\n",
       "      <td>415</td>\n",
       "      <td>115.81</td>\n",
       "      <td>-0.005</td>\n",
       "    </tr>\n",
       "    <tr>\n",
       "      <th>2017-01-03 09:30:00.083000832-05:00</th>\n",
       "      <td>115.80</td>\n",
       "      <td>18</td>\n",
       "      <td>115.82</td>\n",
       "      <td>415</td>\n",
       "      <td>115.81</td>\n",
       "      <td>0.000</td>\n",
       "    </tr>\n",
       "    <tr>\n",
       "      <th>2017-01-03 09:30:00.093000448-05:00</th>\n",
       "      <td>115.80</td>\n",
       "      <td>18</td>\n",
       "      <td>115.82</td>\n",
       "      <td>475</td>\n",
       "      <td>115.81</td>\n",
       "      <td>0.000</td>\n",
       "    </tr>\n",
       "    <tr>\n",
       "      <th>2017-01-03 09:30:00.113000192-05:00</th>\n",
       "      <td>115.80</td>\n",
       "      <td>18</td>\n",
       "      <td>115.82</td>\n",
       "      <td>474</td>\n",
       "      <td>115.81</td>\n",
       "      <td>0.000</td>\n",
       "    </tr>\n",
       "    <tr>\n",
       "      <th>2017-01-03 09:30:00.164000-05:00</th>\n",
       "      <td>115.80</td>\n",
       "      <td>18</td>\n",
       "      <td>115.82</td>\n",
       "      <td>448</td>\n",
       "      <td>115.81</td>\n",
       "      <td>0.000</td>\n",
       "    </tr>\n",
       "    <tr>\n",
       "      <th>...</th>\n",
       "      <td>...</td>\n",
       "      <td>...</td>\n",
       "      <td>...</td>\n",
       "      <td>...</td>\n",
       "      <td>...</td>\n",
       "      <td>...</td>\n",
       "    </tr>\n",
       "    <tr>\n",
       "      <th>2017-01-03 16:00:00-05:00</th>\n",
       "      <td>116.13</td>\n",
       "      <td>234</td>\n",
       "      <td>116.15</td>\n",
       "      <td>11</td>\n",
       "      <td>116.14</td>\n",
       "      <td>0.000</td>\n",
       "    </tr>\n",
       "    <tr>\n",
       "      <th>2017-01-03 16:00:00-05:00</th>\n",
       "      <td>116.13</td>\n",
       "      <td>173</td>\n",
       "      <td>116.15</td>\n",
       "      <td>11</td>\n",
       "      <td>116.14</td>\n",
       "      <td>0.000</td>\n",
       "    </tr>\n",
       "    <tr>\n",
       "      <th>2017-01-03 16:00:00-05:00</th>\n",
       "      <td>116.13</td>\n",
       "      <td>169</td>\n",
       "      <td>116.15</td>\n",
       "      <td>11</td>\n",
       "      <td>116.14</td>\n",
       "      <td>0.000</td>\n",
       "    </tr>\n",
       "    <tr>\n",
       "      <th>2017-01-03 16:00:00-05:00</th>\n",
       "      <td>116.13</td>\n",
       "      <td>169</td>\n",
       "      <td>116.15</td>\n",
       "      <td>10</td>\n",
       "      <td>116.14</td>\n",
       "      <td>0.000</td>\n",
       "    </tr>\n",
       "    <tr>\n",
       "      <th>2017-01-03 16:00:00-05:00</th>\n",
       "      <td>116.13</td>\n",
       "      <td>169</td>\n",
       "      <td>116.15</td>\n",
       "      <td>11</td>\n",
       "      <td>116.14</td>\n",
       "      <td>0.000</td>\n",
       "    </tr>\n",
       "  </tbody>\n",
       "</table>\n",
       "<p>465116 rows × 6 columns</p>\n",
       "</div>"
      ],
      "text/plain": [
       "                                     bid-price  bid-volume  ask-price  \\\n",
       "xltime                                                                  \n",
       "2017-01-03 09:30:00.074000384-05:00     115.80           4     115.82   \n",
       "2017-01-03 09:30:00.083000832-05:00     115.80          18     115.82   \n",
       "2017-01-03 09:30:00.093000448-05:00     115.80          18     115.82   \n",
       "2017-01-03 09:30:00.113000192-05:00     115.80          18     115.82   \n",
       "2017-01-03 09:30:00.164000-05:00        115.80          18     115.82   \n",
       "...                                        ...         ...        ...   \n",
       "2017-01-03 16:00:00-05:00               116.13         234     116.15   \n",
       "2017-01-03 16:00:00-05:00               116.13         173     116.15   \n",
       "2017-01-03 16:00:00-05:00               116.13         169     116.15   \n",
       "2017-01-03 16:00:00-05:00               116.13         169     116.15   \n",
       "2017-01-03 16:00:00-05:00               116.13         169     116.15   \n",
       "\n",
       "                                     ask-volume     Mid  Returns  \n",
       "xltime                                                            \n",
       "2017-01-03 09:30:00.074000384-05:00         415  115.81   -0.005  \n",
       "2017-01-03 09:30:00.083000832-05:00         415  115.81    0.000  \n",
       "2017-01-03 09:30:00.093000448-05:00         475  115.81    0.000  \n",
       "2017-01-03 09:30:00.113000192-05:00         474  115.81    0.000  \n",
       "2017-01-03 09:30:00.164000-05:00            448  115.81    0.000  \n",
       "...                                         ...     ...      ...  \n",
       "2017-01-03 16:00:00-05:00                    11  116.14    0.000  \n",
       "2017-01-03 16:00:00-05:00                    11  116.14    0.000  \n",
       "2017-01-03 16:00:00-05:00                    11  116.14    0.000  \n",
       "2017-01-03 16:00:00-05:00                    10  116.14    0.000  \n",
       "2017-01-03 16:00:00-05:00                    11  116.14    0.000  \n",
       "\n",
       "[465116 rows x 6 columns]"
      ]
     },
     "execution_count": 7,
     "metadata": {},
     "output_type": "execute_result"
    }
   ],
   "source": [
    "# On considère le stock Apple donc les marchés Américains. Dans la fonction \n",
    "# load_TRTH_bbo, on a donc utilisé les horaires du marché, entre 9h30 et 16h \n",
    "# pour extraire les données. \n",
    "# On calcule dans un premier temps la colonne de prix moyen mid\n",
    "AAPL_intraday[\"Mid\"] = (AAPL_intraday[\"bid-price\"] + AAPL_intraday[\"ask-price\"])/2\n",
    "# On calcule ensuite les rendements sur la colonne \"Mid\"\n",
    "AAPL_intraday[\"Returns\"] = (AAPL_intraday[\"Mid\"]).diff().values\n",
    "AAPL_intraday = AAPL_intraday.dropna(subset=[\"Returns\"])  \n",
    "AAPL_intraday"
   ]
  },
  {
   "cell_type": "code",
   "execution_count": 8,
   "metadata": {},
   "outputs": [
    {
     "data": {
      "text/html": [
       "<div>\n",
       "<style scoped>\n",
       "    .dataframe tbody tr th:only-of-type {\n",
       "        vertical-align: middle;\n",
       "    }\n",
       "\n",
       "    .dataframe tbody tr th {\n",
       "        vertical-align: top;\n",
       "    }\n",
       "\n",
       "    .dataframe thead th {\n",
       "        text-align: right;\n",
       "    }\n",
       "</style>\n",
       "<table border=\"1\" class=\"dataframe\">\n",
       "  <thead>\n",
       "    <tr style=\"text-align: right;\">\n",
       "      <th></th>\n",
       "      <th>bid-price</th>\n",
       "      <th>bid-volume</th>\n",
       "      <th>ask-price</th>\n",
       "      <th>ask-volume</th>\n",
       "      <th>Mid</th>\n",
       "      <th>Returns</th>\n",
       "      <th>Log Returns</th>\n",
       "    </tr>\n",
       "    <tr>\n",
       "      <th>xltime</th>\n",
       "      <th></th>\n",
       "      <th></th>\n",
       "      <th></th>\n",
       "      <th></th>\n",
       "      <th></th>\n",
       "      <th></th>\n",
       "      <th></th>\n",
       "    </tr>\n",
       "  </thead>\n",
       "  <tbody>\n",
       "    <tr>\n",
       "      <th>2017-01-03 09:30:05-05:00</th>\n",
       "      <td>115.70</td>\n",
       "      <td>5.0</td>\n",
       "      <td>115.77</td>\n",
       "      <td>2.0</td>\n",
       "      <td>115.735</td>\n",
       "      <td>0.000</td>\n",
       "      <td>-0.000346</td>\n",
       "    </tr>\n",
       "    <tr>\n",
       "      <th>2017-01-03 09:30:10-05:00</th>\n",
       "      <td>115.71</td>\n",
       "      <td>2.0</td>\n",
       "      <td>115.75</td>\n",
       "      <td>3.0</td>\n",
       "      <td>115.730</td>\n",
       "      <td>0.000</td>\n",
       "      <td>-0.000043</td>\n",
       "    </tr>\n",
       "    <tr>\n",
       "      <th>2017-01-03 09:30:15-05:00</th>\n",
       "      <td>115.56</td>\n",
       "      <td>2.0</td>\n",
       "      <td>115.73</td>\n",
       "      <td>1.0</td>\n",
       "      <td>115.645</td>\n",
       "      <td>0.025</td>\n",
       "      <td>-0.000735</td>\n",
       "    </tr>\n",
       "    <tr>\n",
       "      <th>2017-01-03 09:30:20-05:00</th>\n",
       "      <td>115.50</td>\n",
       "      <td>31.0</td>\n",
       "      <td>115.69</td>\n",
       "      <td>2.0</td>\n",
       "      <td>115.595</td>\n",
       "      <td>0.000</td>\n",
       "      <td>-0.000432</td>\n",
       "    </tr>\n",
       "    <tr>\n",
       "      <th>2017-01-03 09:30:25-05:00</th>\n",
       "      <td>115.57</td>\n",
       "      <td>2.0</td>\n",
       "      <td>115.67</td>\n",
       "      <td>2.0</td>\n",
       "      <td>115.620</td>\n",
       "      <td>0.000</td>\n",
       "      <td>0.000216</td>\n",
       "    </tr>\n",
       "    <tr>\n",
       "      <th>...</th>\n",
       "      <td>...</td>\n",
       "      <td>...</td>\n",
       "      <td>...</td>\n",
       "      <td>...</td>\n",
       "      <td>...</td>\n",
       "      <td>...</td>\n",
       "      <td>...</td>\n",
       "    </tr>\n",
       "    <tr>\n",
       "      <th>2017-01-03 15:59:40-05:00</th>\n",
       "      <td>115.98</td>\n",
       "      <td>2.0</td>\n",
       "      <td>115.99</td>\n",
       "      <td>11.0</td>\n",
       "      <td>115.985</td>\n",
       "      <td>0.000</td>\n",
       "      <td>0.000000</td>\n",
       "    </tr>\n",
       "    <tr>\n",
       "      <th>2017-01-03 15:59:45-05:00</th>\n",
       "      <td>115.93</td>\n",
       "      <td>3.0</td>\n",
       "      <td>115.94</td>\n",
       "      <td>4.0</td>\n",
       "      <td>115.935</td>\n",
       "      <td>0.000</td>\n",
       "      <td>-0.000431</td>\n",
       "    </tr>\n",
       "    <tr>\n",
       "      <th>2017-01-03 15:59:50-05:00</th>\n",
       "      <td>116.04</td>\n",
       "      <td>5.0</td>\n",
       "      <td>116.06</td>\n",
       "      <td>2.0</td>\n",
       "      <td>116.050</td>\n",
       "      <td>0.000</td>\n",
       "      <td>0.000991</td>\n",
       "    </tr>\n",
       "    <tr>\n",
       "      <th>2017-01-03 15:59:55-05:00</th>\n",
       "      <td>116.13</td>\n",
       "      <td>234.0</td>\n",
       "      <td>116.15</td>\n",
       "      <td>10.0</td>\n",
       "      <td>116.140</td>\n",
       "      <td>0.000</td>\n",
       "      <td>0.000775</td>\n",
       "    </tr>\n",
       "    <tr>\n",
       "      <th>2017-01-03 16:00:00-05:00</th>\n",
       "      <td>116.13</td>\n",
       "      <td>169.0</td>\n",
       "      <td>116.15</td>\n",
       "      <td>11.0</td>\n",
       "      <td>116.140</td>\n",
       "      <td>0.000</td>\n",
       "      <td>0.000000</td>\n",
       "    </tr>\n",
       "  </tbody>\n",
       "</table>\n",
       "<p>4665 rows × 7 columns</p>\n",
       "</div>"
      ],
      "text/plain": [
       "                           bid-price  bid-volume  ask-price  ask-volume  \\\n",
       "xltime                                                                    \n",
       "2017-01-03 09:30:05-05:00     115.70         5.0     115.77         2.0   \n",
       "2017-01-03 09:30:10-05:00     115.71         2.0     115.75         3.0   \n",
       "2017-01-03 09:30:15-05:00     115.56         2.0     115.73         1.0   \n",
       "2017-01-03 09:30:20-05:00     115.50        31.0     115.69         2.0   \n",
       "2017-01-03 09:30:25-05:00     115.57         2.0     115.67         2.0   \n",
       "...                              ...         ...        ...         ...   \n",
       "2017-01-03 15:59:40-05:00     115.98         2.0     115.99        11.0   \n",
       "2017-01-03 15:59:45-05:00     115.93         3.0     115.94         4.0   \n",
       "2017-01-03 15:59:50-05:00     116.04         5.0     116.06         2.0   \n",
       "2017-01-03 15:59:55-05:00     116.13       234.0     116.15        10.0   \n",
       "2017-01-03 16:00:00-05:00     116.13       169.0     116.15        11.0   \n",
       "\n",
       "                               Mid  Returns  Log Returns  \n",
       "xltime                                                    \n",
       "2017-01-03 09:30:05-05:00  115.735    0.000    -0.000346  \n",
       "2017-01-03 09:30:10-05:00  115.730    0.000    -0.000043  \n",
       "2017-01-03 09:30:15-05:00  115.645    0.025    -0.000735  \n",
       "2017-01-03 09:30:20-05:00  115.595    0.000    -0.000432  \n",
       "2017-01-03 09:30:25-05:00  115.620    0.000     0.000216  \n",
       "...                            ...      ...          ...  \n",
       "2017-01-03 15:59:40-05:00  115.985    0.000     0.000000  \n",
       "2017-01-03 15:59:45-05:00  115.935    0.000    -0.000431  \n",
       "2017-01-03 15:59:50-05:00  116.050    0.000     0.000991  \n",
       "2017-01-03 15:59:55-05:00  116.140    0.000     0.000775  \n",
       "2017-01-03 16:00:00-05:00  116.140    0.000     0.000000  \n",
       "\n",
       "[4665 rows x 7 columns]"
      ]
     },
     "execution_count": 8,
     "metadata": {},
     "output_type": "execute_result"
    }
   ],
   "source": [
    "# On resample à 5 secondes pour avoir un dataset plus lisible et on calcule les log\n",
    "# rendements sur la colonne \"Mid\"\n",
    "AAPL_intraday_resampled = AAPL_intraday.resample(\"5S\").last()\n",
    "AAPL_intraday_resampled[\"Log Returns\"] = np.log(AAPL_intraday_resampled[\"Mid\"]).diff().values\n",
    "AAPL_intraday_resampled = AAPL_intraday_resampled.dropna(subset=[\"Log Returns\"])\n",
    "AAPL_intraday_resampled "
   ]
  },
  {
   "cell_type": "markdown",
   "metadata": {},
   "source": [
    "### 4. Analyse empirique\n",
    "#### 4.1 Rendements : types de distribution\n",
    "\n",
    "*Les questions suivantes seront traitées à la fois sur les données journalières et sur les données intraday.*"
   ]
  },
  {
   "cell_type": "markdown",
   "metadata": {},
   "source": [
    "*1. Dans un premier temps, nous allons tester la gaussianité des rendements.*"
   ]
  },
  {
   "cell_type": "code",
   "execution_count": 23,
   "metadata": {},
   "outputs": [
    {
     "data": {
      "image/png": "[encoded data removed]",
      "text/plain": [
       "<Figure size 432x288 with 1 Axes>"
      ]
     },
     "metadata": {
      "needs_background": "light"
     },
     "output_type": "display_data"
    }
   ],
   "source": [
    "# On affiche un QQ-plot pour tester la gaussianité des log-rendements des prix intradays\n",
    "stats.probplot(AAPL_intraday_resampled[\"Log Returns\"], dist=\"norm\", plot=plt)\n",
    "plt.show()"
   ]
  },
  {
   "cell_type": "code",
   "execution_count": 10,
   "metadata": {},
   "outputs": [
    {
     "data": {
      "image/png": "[encoded data removed]",
      "text/plain": [
       "<Figure size 432x288 with 1 Axes>"
      ]
     },
     "metadata": {
      "needs_background": "light"
     },
     "output_type": "display_data"
    }
   ],
   "source": [
    "# On affiche un QQ-plot pour tester la gaussianité des log-rendements des prix journaliers\n",
    "stats.probplot(AAPL_daily[\"Log Returns\"], dist=\"norm\", plot=plt)\n",
    "plt.show()"
   ]
  },
  {
   "cell_type": "markdown",
   "metadata": {},
   "source": [
    "Ainsi, nous pouvons constater que les deux QQ-plots ne sont pas ceux d'une loi normale étant donné que les points ne suivent pas la droite.\n",
    "\n",
    "Cependant, le premier QQ-plot représente mieux une loi normale que le second, car ses extrêmes sont plus contenus malgré un léger effet de kurtosis et la plupart des points restent alignés avec la droite rouge. Le deuxième QQ-plot montre une déviation plus forte, indiquant une distribution encore moins gaussienne.\n",
    "\n",
    "Ceci est probablement dû au fait que les rendements financiers ont souvent des distributions leptokurtiques, avec des événements extrêmes plus fréquemment attendu que pour une distribution gaussienne (queues lourdes)."
   ]
  },
  {
   "cell_type": "markdown",
   "metadata": {},
   "source": [
    "*2. Dans un second temps, nous allons déterminer graphiquement si la distribution de la valeur absolue des rendements a une queue lourde.*"
   ]
  },
  {
   "cell_type": "code",
   "execution_count": 11,
   "metadata": {},
   "outputs": [
    {
     "data": {
      "image/png": "[encoded data removed]",
      "text/plain": [
       "<Figure size 720x360 with 1 Axes>"
      ]
     },
     "metadata": {
      "needs_background": "light"
     },
     "output_type": "display_data"
    }
   ],
   "source": [
    "# a. On trace la fonction complémentaire de la distribution cumulée (ccdf ou survivor function) avec des axes linéaires en X et log en Y. \n",
    "# Si on trouve une concavité, c'est un signe de la trace d'une queue lourde.\n",
    "ecdf_intraday = ECDF(AAPL_intraday_resampled[\"Log Returns\"])\n",
    "plt.figure(figsize=(10,5))\n",
    "plt.plot(ecdf_intraday.x, 1-ecdf_intraday.y, color = \"blue\", label = \"CCDF intraday\")\n",
    "plt.plot(ecdf_intraday.x, 1-stats.norm.cdf(ecdf_intraday.x,loc=AAPL_intraday_resampled[\"Log Returns\"].mean(),scale=AAPL_intraday_resampled[\"Log Returns\"].std()), color = \"red\", label =\"CCDFF normale\")\n",
    "plt.yscale(\"log\")\n",
    "plt.title(\"Comparaison de la CCDF des log-rendements intradays par rapport à celle d'une loi normale\")\n",
    "plt.legend()\n",
    "plt.show()"
   ]
  },
  {
   "cell_type": "markdown",
   "metadata": {},
   "source": [
    "On se rend compte que la CCDF décroit de 0 à 1 ce qui est cohérent puisqu'elle représente $P(r>x)$, soit la probabilité d'avoir un rendement supérieur à une certaine valeur. La décroissance est en marche et non lisse puisqu'on a un nombre limité de valeurs.\n",
    "\n",
    "La décroissance plus faible qu'une loi normale sur la partie droite du graph indique la présence de queues lourdes. "
   ]
  },
  {
   "cell_type": "code",
   "execution_count": 12,
   "metadata": {},
   "outputs": [
    {
     "data": {
      "image/png": "[encoded data removed]",
      "text/plain": [
       "<Figure size 720x360 with 1 Axes>"
      ]
     },
     "metadata": {
      "needs_background": "light"
     },
     "output_type": "display_data"
    }
   ],
   "source": [
    "ecdf_daily = ECDF(AAPL_daily[\"Log Returns\"])\n",
    "plt.figure(figsize=(10,5))\n",
    "plt.plot(ecdf_daily.x, 1-ecdf_daily.y, color = \"blue\", label = \"CCDF daily\")\n",
    "plt.plot(ecdf_daily.x, 1-stats.norm.cdf(ecdf_daily.x,loc=AAPL_daily[\"Log Returns\"].mean(),scale=AAPL_daily[\"Log Returns\"].std()), color = \"red\", label =\"CCDFF normale\")\n",
    "plt.yscale(\"log\")\n",
    "plt.title(\"Comparaison de la CCDF des log-rendements daily par rapport à celle d'une loi normale\")\n",
    "plt.legend()\n",
    "plt.show()"
   ]
  },
  {
   "cell_type": "markdown",
   "metadata": {},
   "source": [
    "Déjà, remarquons la différence sur la granularité des données : en intraday, on avait un nombre limité de valeurs dû au fait que les rendements possibles sont contraints par la fréquence d'échantillonage et la microstructure du marché. Donc la CCDF n'est pas parfaitement lisse et forme des paliers. \n",
    "\n",
    "Au contraire, au niveau des rendements daily, on a accumulé du fait de l'historique de 25 ans de données beaucoup de valeurs différentes donnant une distribution plus continue et donc plus lisse. Les effets journaliers sont donc moins contraints par la microstructure du marché. \n",
    "\n",
    "Ensuite, on remarque que la décroissance de la CCDF des rendements daily est moins importante que celle de la loi normale sur une partie des données, montrant la présence de queues lourdes. Cependant, ces queues sont beaucoup moins marquées que pour les rendements intradays."
   ]
  },
  {
   "cell_type": "markdown",
   "metadata": {},
   "source": [
    "*b. Nous allons maintenant tracer le QQ-plot de $\\frac{|r|}{\\mathbb{E}(|r|)}$ avec une distribution exponentielle de moyenne 1 comme distribution théorique.*"
   ]
  },
  {
   "cell_type": "code",
   "execution_count": 30,
   "metadata": {},
   "outputs": [
    {
     "data": {
      "image/png": "[encoded data removed]",
      "text/plain": [
       "<Figure size 432x288 with 1 Axes>"
      ]
     },
     "metadata": {
      "needs_background": "light"
     },
     "output_type": "display_data"
    }
   ],
   "source": [
    "# On prend la distribution exponentielle de moyenne 1 comme distribution de référence pour le QQ-plot\n",
    "# On va tracer le QQ-plot des log-rendements divisés par l'espérance des log-rendements\n",
    "stats.probplot(np.abs(AAPL_intraday_resampled[\"Log Returns\"])/np.abs(AAPL_intraday_resampled[\"Log Returns\"]).mean(), dist=\"expon\", plot=plt)\n",
    "plt.show()"
   ]
  },
  {
   "cell_type": "code",
   "execution_count": 32,
   "metadata": {},
   "outputs": [
    {
     "data": {
      "image/png": "[encoded data removed]",
      "text/plain": [
       "<Figure size 432x288 with 1 Axes>"
      ]
     },
     "metadata": {
      "needs_background": "light"
     },
     "output_type": "display_data"
    }
   ],
   "source": [
    "stats.probplot(np.abs(AAPL_daily[\"Log Returns\"])/np.abs(AAPL_daily[\"Log Returns\"]).mean(), dist=\"expon\", plot=plt)\n",
    "plt.show()"
   ]
  },
  {
   "cell_type": "markdown",
   "metadata": {},
   "source": [
    "Ainsi, nous pouvons remarquer que l'ajustement est meilleur pour une loi exponentielle que pour une loi normale. Mais on observe encore une déviation assez importante dans les queues. En intraday, les grandes valeurs s'éloignent très fortement de la distribution théorique et les rendements absolus suivent donc une décroissance encore plus lente. En revanche, l'exponentielle est un meilleur fit pour les rendements daily même si les valeurs extrêmes sont plus fréquentes que prévu ce qui montre que cette distribution théorique reste imparfaite. "
   ]
  },
  {
   "cell_type": "markdown",
   "metadata": {},
   "source": [
    "*c. Nous allons maintenant calculer la distance maximale entre les quantiles empiriques de $\\frac{|r|}{\\mathbb{E}(|r|)}$ et les quantiles d'une distribution exponentielle de moyenne 1 pour les rendements plus extrêmes que les rendements exponentiels, soit le $max_{q} | q(\\phi)-q_{exp}(\\phi)|_{+}$ avec $\\phi \\in ]0, 1[$.*"
   ]
  },
  {
   "cell_type": "code",
   "execution_count": 20,
   "metadata": {},
   "outputs": [
    {
     "name": "stdout",
     "output_type": "stream",
     "text": [
      "La distance maximale entre les quantiles empiriques intraday et les quantiles d'une distribution exponentielle de moyenne 1 est de 18.419288351322766\n"
     ]
    }
   ],
   "source": [
    "# Affichons la distance maximale entre les quantiles empiriques et les quantiles d'une distribution exponentielle de moyenne 1 pour les rendements plus extrêmes \n",
    "quantiles = np.linspace(1e-8,1-1e-8,100000)\n",
    "quantiles_empiriques_intraday = np.quantile(AAPL_intraday_resampled[\"Log Returns\"],quantiles)\n",
    "quantiles_exponentielle = stats.expon.ppf(quantiles)\n",
    "distance_intraday = max(np.abs(quantiles_empiriques_intraday-quantiles_exponentielle))\n",
    "print(\"La distance maximale entre les quantiles empiriques intraday et les quantiles d'une distribution exponentielle de moyenne 1 est de\",distance_intraday)"
   ]
  },
  {
   "cell_type": "code",
   "execution_count": 21,
   "metadata": {},
   "outputs": [
    {
     "name": "stdout",
     "output_type": "stream",
     "text": [
      "La distance maximale entre les quantiles empiriques daily et les quantiles d'une distribution exponentielle de moyenne 1 est de 18.290487030658195\n"
     ]
    }
   ],
   "source": [
    "# Affichons la distance maximale entre les quantiles empiriques et les quantiles d'une distribution exponentielle de moyenne 1 pour les rendements plus extrêmes \n",
    "quantiles_empiriques_daily = np.quantile(AAPL_daily[\"Log Returns\"],quantiles)\n",
    "distance_daily = max(np.abs(quantiles_empiriques_daily-quantiles_exponentielle))\n",
    "print(\"La distance maximale entre les quantiles empiriques daily et les quantiles d'une distribution exponentielle de moyenne 1 est de\",distance_daily)"
   ]
  },
  {
   "cell_type": "markdown",
   "metadata": {},
   "source": [
    "Les distances maximales entre quantiles empiriques et quantiles théoriques pour les rendements plus extrêmes que les rendements exponentiels sont très proches entre les rendements intraday et daily. Les distributions sont similaires dans leur maximum de déviation par rapport à l'exponentielle, cependant la forme du QQ-plot à la question précédente montre que la nature de la déviation diffère : les écarts sont plus brutaux et moins lissés pour les intraday. "
   ]
  },
  {
   "cell_type": "markdown",
   "metadata": {},
   "source": [
    "*d. Nous allons pour finir générer des rendements iid avec une loi de Laplace (double exponentielle) et répéter le point précédent.*"
   ]
  },
  {
   "cell_type": "code",
   "execution_count": 39,
   "metadata": {},
   "outputs": [
    {
     "data": {
      "image/png": "[encoded data removed]",
      "text/plain": [
       "<Figure size 432x288 with 1 Axes>"
      ]
     },
     "metadata": {
      "needs_background": "light"
     },
     "output_type": "display_data"
    }
   ],
   "source": [
    "# Génération de rendements iid avec une loi de Laplace\n",
    "n = 1000\n",
    "mu = 0\n",
    "b = 1\n",
    "np.random.seed(42)\n",
    "laplace = np.random.laplace(mu,b,n)\n",
    "# Afficher la distribution des rendements pour visualiser la distribution de Laplace\n",
    "plt.hist(laplace,bins=50)\n",
    "plt.show()"
   ]
  },
  {
   "cell_type": "code",
   "execution_count": 40,
   "metadata": {},
   "outputs": [
    {
     "data": {
      "image/png": "[encoded data removed]",
      "text/plain": [
       "<Figure size 720x360 with 1 Axes>"
      ]
     },
     "metadata": {
      "needs_background": "light"
     },
     "output_type": "display_data"
    }
   ],
   "source": [
    "# On affiche maintenant la CCDF associée.\n",
    "plt.figure(figsize=(10,5))\n",
    "ecdf_laplace = ECDF(laplace)\n",
    "plt.plot(ecdf_laplace.x, 1-ecdf_laplace.y, color = \"blue\", label = \"CCDF Laplace\")\n",
    "plt.plot(ecdf_laplace.x, 1-stats.norm.cdf(ecdf_laplace.x,loc=mu,scale=b), color = \"red\", label =\"CCDFF normale\")\n",
    "plt.yscale(\"log\")\n",
    "plt.title(\"Comparaison de la CCDF des rendements de Laplace par rapport à celle d'une loi normale\")\n",
    "plt.legend()\n",
    "plt.show()"
   ]
  },
  {
   "cell_type": "code",
   "execution_count": 41,
   "metadata": {},
   "outputs": [
    {
     "data": {
      "image/png": "[encoded data removed]",
      "text/plain": [
       "<Figure size 432x288 with 1 Axes>"
      ]
     },
     "metadata": {
      "needs_background": "light"
     },
     "output_type": "display_data"
    }
   ],
   "source": [
    "# On affiche le QQ-plot des rendements de Laplace divisés par l'espérance des rendements\n",
    "stats.probplot(np.abs(laplace)/np.abs(laplace).mean(), dist=\"expon\", plot=plt)\n",
    "plt.show()"
   ]
  },
  {
   "cell_type": "code",
   "execution_count": 42,
   "metadata": {},
   "outputs": [
    {
     "name": "stdout",
     "output_type": "stream",
     "text": [
      "La distance maximale entre les quantiles empiriques de Laplace et les quantiles d'une distribution exponentielle de moyenne 1 est de 10.94140634126585\n"
     ]
    }
   ],
   "source": [
    "# Affichons la distance maximale entre les quantiles empiriques et les quantiles d'une distribution exponentielle de moyenne 1 pour les rendements plus extrêmes\n",
    "quantiles_laplace = np.quantile(laplace,quantiles)\n",
    "distance_laplace = max(np.abs(quantiles_laplace-quantiles_exponentielle))\n",
    "print(\"La distance maximale entre les quantiles empiriques de Laplace et les quantiles d'une distribution exponentielle de moyenne 1 est de\",distance_laplace)"
   ]
  },
  {
   "cell_type": "markdown",
   "metadata": {},
   "source": [
    "Ainsi, les rendements distribués suivant une loi de Laplace ont des queues plus lourdes que la loi normale comme prouvé par le graph de la CCDF. En revanche, la loi exponentielle fit plutôt bien la loi de Laplace puisque le QQ-plot affiche presque une droite, avec des points qui ne s'écartent que légèrement. Les queues sont donc légèrement plus lourdes que celles de la loi exponentielle, mais beaucoup moins que nos rendements intraday et daily comme le montre la distance maximale qui vaut 10,94 et non plus de 18. \n",
    "\n",
    "Nous pouvons donc dire que nos rendements financiers intraday ont des queues plus lourdes que les rendements daily (du fait de leur distribution des quantiles dans le QQ-plot plus éloigné de la loi exponentielle), qui ont eu même des queues plus lourdes que la loi de Laplace, et donc à fortiori de la loi exponentielle. \n",
    "\n",
    "Ces queues lourdes expliquent pourquoi les chocs extrêmes sur les marchés financiers sont plus fréquents que ce que prédirait une distribution exponentielle ou normale. "
   ]
  },
  {
   "cell_type": "markdown",
   "metadata": {},
   "source": [
    "*3. Maintenant que nous avons trouvé que les rendements financiers ont des queues lourdes, nous allons déterminer l'exposant de la queue de distribution grâce au paquet Powerlaw.*"
   ]
  }
 ],
 "metadata": {
  "kernelspec": {
   "display_name": "base",
   "language": "python",
   "name": "python3"
  },
  "language_info": {
   "codemirror_mode": {
    "name": "ipython",
    "version": 3
   },
   "file_extension": ".py",
   "mimetype": "text/x-python",
   "name": "python",
   "nbconvert_exporter": "python",
   "pygments_lexer": "ipython3",
   "version": "3.8.8"
  }
 },
 "nbformat": 4,
 "nbformat_minor": 2
}
