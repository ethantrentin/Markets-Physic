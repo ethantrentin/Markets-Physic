{
 "cells": [
  {
   "cell_type": "markdown",
   "metadata": {},
   "source": [
    "## TP1 Physique des marchés : faits stylisés\n",
    "\n",
    "*Notebook réalisé par Alexandre Boistard, Ethan Trentin*"
   ]
  },
  {
   "cell_type": "markdown",
   "metadata": {},
   "source": [
    "### 2. Obtenir des données\n",
    "#### 2.1 Données journalières"
   ]
  },
  {
   "cell_type": "code",
   "execution_count": 66,
   "metadata": {},
   "outputs": [],
   "source": [
    "import yfinance as yf\n",
    "import pandas as pd\n",
    "import numpy as np\n",
    "import matplotlib.pyplot as plt\n",
    "import scipy.stats as stats\n",
    "from statsmodels.distributions.empirical_distribution import ECDF\n",
    "import powerlaw\n",
    "from scipy.signal import find_peaks\n",
    "import sys"
   ]
  },
  {
   "cell_type": "code",
   "execution_count": 2,
   "metadata": {},
   "outputs": [
    {
     "name": "stdout",
     "output_type": "stream",
     "text": [
      "YF.download() has changed argument auto_adjust default to True\n"
     ]
    },
    {
     "name": "stderr",
     "output_type": "stream",
     "text": [
      "[*********************100%***********************]  1 of 1 completed\n"
     ]
    },
    {
     "data": {
      "image/png": "[encoded data removed]",
      "text/plain": [
       "<Figure size 432x288 with 1 Axes>"
      ]
     },
     "metadata": {
      "needs_background": "light"
     },
     "output_type": "display_data"
    }
   ],
   "source": [
    "AAPL_daily = yf.download('AAPL', start='2000-01-01', end='2025-01-01')\n",
    "AAPL_daily['Close'].plot()\n",
    "plt.show()"
   ]
  },
  {
   "cell_type": "code",
   "execution_count": 3,
   "metadata": {},
   "outputs": [
    {
     "data": {
      "text/html": [
       "<div>\n",
       "<style scoped>\n",
       "    .dataframe tbody tr th:only-of-type {\n",
       "        vertical-align: middle;\n",
       "    }\n",
       "\n",
       "    .dataframe tbody tr th {\n",
       "        vertical-align: top;\n",
       "    }\n",
       "\n",
       "    .dataframe thead tr th {\n",
       "        text-align: left;\n",
       "    }\n",
       "\n",
       "    .dataframe thead tr:last-of-type th {\n",
       "        text-align: right;\n",
       "    }\n",
       "</style>\n",
       "<table border=\"1\" class=\"dataframe\">\n",
       "  <thead>\n",
       "    <tr>\n",
       "      <th>Price</th>\n",
       "      <th>Close</th>\n",
       "      <th>High</th>\n",
       "      <th>Low</th>\n",
       "      <th>Open</th>\n",
       "      <th>Volume</th>\n",
       "    </tr>\n",
       "    <tr>\n",
       "      <th>Ticker</th>\n",
       "      <th>AAPL</th>\n",
       "      <th>AAPL</th>\n",
       "      <th>AAPL</th>\n",
       "      <th>AAPL</th>\n",
       "      <th>AAPL</th>\n",
       "    </tr>\n",
       "    <tr>\n",
       "      <th>Date</th>\n",
       "      <th></th>\n",
       "      <th></th>\n",
       "      <th></th>\n",
       "      <th></th>\n",
       "      <th></th>\n",
       "    </tr>\n",
       "  </thead>\n",
       "  <tbody>\n",
       "    <tr>\n",
       "      <th>2000-01-03</th>\n",
       "      <td>0.842150</td>\n",
       "      <td>0.846382</td>\n",
       "      <td>0.765036</td>\n",
       "      <td>0.789017</td>\n",
       "      <td>535796800</td>\n",
       "    </tr>\n",
       "    <tr>\n",
       "      <th>2000-01-04</th>\n",
       "      <td>0.771149</td>\n",
       "      <td>0.832276</td>\n",
       "      <td>0.761274</td>\n",
       "      <td>0.814408</td>\n",
       "      <td>512377600</td>\n",
       "    </tr>\n",
       "    <tr>\n",
       "      <th>2000-01-05</th>\n",
       "      <td>0.782433</td>\n",
       "      <td>0.831806</td>\n",
       "      <td>0.774910</td>\n",
       "      <td>0.780552</td>\n",
       "      <td>778321600</td>\n",
       "    </tr>\n",
       "    <tr>\n",
       "      <th>2000-01-06</th>\n",
       "      <td>0.714723</td>\n",
       "      <td>0.805004</td>\n",
       "      <td>0.714723</td>\n",
       "      <td>0.798421</td>\n",
       "      <td>767972800</td>\n",
       "    </tr>\n",
       "    <tr>\n",
       "      <th>2000-01-07</th>\n",
       "      <td>0.748578</td>\n",
       "      <td>0.759864</td>\n",
       "      <td>0.718485</td>\n",
       "      <td>0.726008</td>\n",
       "      <td>460734400</td>\n",
       "    </tr>\n",
       "    <tr>\n",
       "      <th>...</th>\n",
       "      <td>...</td>\n",
       "      <td>...</td>\n",
       "      <td>...</td>\n",
       "      <td>...</td>\n",
       "      <td>...</td>\n",
       "    </tr>\n",
       "    <tr>\n",
       "      <th>2024-12-24</th>\n",
       "      <td>257.916443</td>\n",
       "      <td>257.926411</td>\n",
       "      <td>255.009620</td>\n",
       "      <td>255.209412</td>\n",
       "      <td>23234700</td>\n",
       "    </tr>\n",
       "    <tr>\n",
       "      <th>2024-12-26</th>\n",
       "      <td>258.735504</td>\n",
       "      <td>259.814335</td>\n",
       "      <td>257.347047</td>\n",
       "      <td>257.906429</td>\n",
       "      <td>27237100</td>\n",
       "    </tr>\n",
       "    <tr>\n",
       "      <th>2024-12-27</th>\n",
       "      <td>255.309296</td>\n",
       "      <td>258.415896</td>\n",
       "      <td>252.782075</td>\n",
       "      <td>257.546826</td>\n",
       "      <td>42355300</td>\n",
       "    </tr>\n",
       "    <tr>\n",
       "      <th>2024-12-30</th>\n",
       "      <td>251.923019</td>\n",
       "      <td>253.221595</td>\n",
       "      <td>250.474615</td>\n",
       "      <td>251.952985</td>\n",
       "      <td>35557500</td>\n",
       "    </tr>\n",
       "    <tr>\n",
       "      <th>2024-12-31</th>\n",
       "      <td>250.144974</td>\n",
       "      <td>253.001833</td>\n",
       "      <td>249.156056</td>\n",
       "      <td>252.162760</td>\n",
       "      <td>39480700</td>\n",
       "    </tr>\n",
       "  </tbody>\n",
       "</table>\n",
       "<p>6289 rows × 5 columns</p>\n",
       "</div>"
      ],
      "text/plain": [
       "Price            Close        High         Low        Open     Volume\n",
       "Ticker            AAPL        AAPL        AAPL        AAPL       AAPL\n",
       "Date                                                                 \n",
       "2000-01-03    0.842150    0.846382    0.765036    0.789017  535796800\n",
       "2000-01-04    0.771149    0.832276    0.761274    0.814408  512377600\n",
       "2000-01-05    0.782433    0.831806    0.774910    0.780552  778321600\n",
       "2000-01-06    0.714723    0.805004    0.714723    0.798421  767972800\n",
       "2000-01-07    0.748578    0.759864    0.718485    0.726008  460734400\n",
       "...                ...         ...         ...         ...        ...\n",
       "2024-12-24  257.916443  257.926411  255.009620  255.209412   23234700\n",
       "2024-12-26  258.735504  259.814335  257.347047  257.906429   27237100\n",
       "2024-12-27  255.309296  258.415896  252.782075  257.546826   42355300\n",
       "2024-12-30  251.923019  253.221595  250.474615  251.952985   35557500\n",
       "2024-12-31  250.144974  253.001833  249.156056  252.162760   39480700\n",
       "\n",
       "[6289 rows x 5 columns]"
      ]
     },
     "execution_count": 3,
     "metadata": {},
     "output_type": "execute_result"
    }
   ],
   "source": [
    "AAPL_daily"
   ]
  },
  {
   "cell_type": "markdown",
   "metadata": {},
   "source": [
    "#### 2.2 Données intraday"
   ]
  },
  {
   "cell_type": "code",
   "execution_count": 4,
   "metadata": {},
   "outputs": [],
   "source": [
    "def load_TRTH_bbo(filename,\n",
    "             tz_exchange=\"America/New_York\",\n",
    "             open_time=\"09:30:00\",\n",
    "             close_time=\"16:00:00\",\n",
    "             only_regular_trading_hours=True):\n",
    "    \n",
    "    DF = pd.read_csv(filename)\n",
    "\n",
    "    DF.index = pd.to_datetime(DF[\"xltime\"],unit=\"d\",origin=\"1899-12-30\",utc=True)\n",
    "    DF.index = DF.index.tz_convert(tz_exchange)  # .P stands for Arca, which is based at New York\n",
    "    DF.drop(columns=\"xltime\",inplace=True)\n",
    "    \n",
    "    if only_regular_trading_hours:\n",
    "        DF=DF.between_time(open_time,close_time)    # warning: ever heard e.g. about Thanksgivings?\n",
    "        \n",
    "    return DF"
   ]
  },
  {
   "cell_type": "code",
   "execution_count": 5,
   "metadata": {},
   "outputs": [
    {
     "data": {
      "text/html": [
       "<div>\n",
       "<style scoped>\n",
       "    .dataframe tbody tr th:only-of-type {\n",
       "        vertical-align: middle;\n",
       "    }\n",
       "\n",
       "    .dataframe tbody tr th {\n",
       "        vertical-align: top;\n",
       "    }\n",
       "\n",
       "    .dataframe thead th {\n",
       "        text-align: right;\n",
       "    }\n",
       "</style>\n",
       "<table border=\"1\" class=\"dataframe\">\n",
       "  <thead>\n",
       "    <tr style=\"text-align: right;\">\n",
       "      <th></th>\n",
       "      <th>bid-price</th>\n",
       "      <th>bid-volume</th>\n",
       "      <th>ask-price</th>\n",
       "      <th>ask-volume</th>\n",
       "    </tr>\n",
       "    <tr>\n",
       "      <th>xltime</th>\n",
       "      <th></th>\n",
       "      <th></th>\n",
       "      <th></th>\n",
       "      <th></th>\n",
       "    </tr>\n",
       "  </thead>\n",
       "  <tbody>\n",
       "    <tr>\n",
       "      <th>2017-01-03 09:30:00.074000384-05:00</th>\n",
       "      <td>115.81</td>\n",
       "      <td>5</td>\n",
       "      <td>115.82</td>\n",
       "      <td>415</td>\n",
       "    </tr>\n",
       "    <tr>\n",
       "      <th>2017-01-03 09:30:00.074000384-05:00</th>\n",
       "      <td>115.80</td>\n",
       "      <td>4</td>\n",
       "      <td>115.82</td>\n",
       "      <td>415</td>\n",
       "    </tr>\n",
       "    <tr>\n",
       "      <th>2017-01-03 09:30:00.083000832-05:00</th>\n",
       "      <td>115.80</td>\n",
       "      <td>18</td>\n",
       "      <td>115.82</td>\n",
       "      <td>415</td>\n",
       "    </tr>\n",
       "    <tr>\n",
       "      <th>2017-01-03 09:30:00.093000448-05:00</th>\n",
       "      <td>115.80</td>\n",
       "      <td>18</td>\n",
       "      <td>115.82</td>\n",
       "      <td>475</td>\n",
       "    </tr>\n",
       "    <tr>\n",
       "      <th>2017-01-03 09:30:00.113000192-05:00</th>\n",
       "      <td>115.80</td>\n",
       "      <td>18</td>\n",
       "      <td>115.82</td>\n",
       "      <td>474</td>\n",
       "    </tr>\n",
       "    <tr>\n",
       "      <th>...</th>\n",
       "      <td>...</td>\n",
       "      <td>...</td>\n",
       "      <td>...</td>\n",
       "      <td>...</td>\n",
       "    </tr>\n",
       "    <tr>\n",
       "      <th>2017-01-03 16:00:00-05:00</th>\n",
       "      <td>116.13</td>\n",
       "      <td>234</td>\n",
       "      <td>116.15</td>\n",
       "      <td>11</td>\n",
       "    </tr>\n",
       "    <tr>\n",
       "      <th>2017-01-03 16:00:00-05:00</th>\n",
       "      <td>116.13</td>\n",
       "      <td>173</td>\n",
       "      <td>116.15</td>\n",
       "      <td>11</td>\n",
       "    </tr>\n",
       "    <tr>\n",
       "      <th>2017-01-03 16:00:00-05:00</th>\n",
       "      <td>116.13</td>\n",
       "      <td>169</td>\n",
       "      <td>116.15</td>\n",
       "      <td>11</td>\n",
       "    </tr>\n",
       "    <tr>\n",
       "      <th>2017-01-03 16:00:00-05:00</th>\n",
       "      <td>116.13</td>\n",
       "      <td>169</td>\n",
       "      <td>116.15</td>\n",
       "      <td>10</td>\n",
       "    </tr>\n",
       "    <tr>\n",
       "      <th>2017-01-03 16:00:00-05:00</th>\n",
       "      <td>116.13</td>\n",
       "      <td>169</td>\n",
       "      <td>116.15</td>\n",
       "      <td>11</td>\n",
       "    </tr>\n",
       "  </tbody>\n",
       "</table>\n",
       "<p>465117 rows × 4 columns</p>\n",
       "</div>"
      ],
      "text/plain": [
       "                                     bid-price  bid-volume  ask-price  \\\n",
       "xltime                                                                  \n",
       "2017-01-03 09:30:00.074000384-05:00     115.81           5     115.82   \n",
       "2017-01-03 09:30:00.074000384-05:00     115.80           4     115.82   \n",
       "2017-01-03 09:30:00.083000832-05:00     115.80          18     115.82   \n",
       "2017-01-03 09:30:00.093000448-05:00     115.80          18     115.82   \n",
       "2017-01-03 09:30:00.113000192-05:00     115.80          18     115.82   \n",
       "...                                        ...         ...        ...   \n",
       "2017-01-03 16:00:00-05:00               116.13         234     116.15   \n",
       "2017-01-03 16:00:00-05:00               116.13         173     116.15   \n",
       "2017-01-03 16:00:00-05:00               116.13         169     116.15   \n",
       "2017-01-03 16:00:00-05:00               116.13         169     116.15   \n",
       "2017-01-03 16:00:00-05:00               116.13         169     116.15   \n",
       "\n",
       "                                     ask-volume  \n",
       "xltime                                           \n",
       "2017-01-03 09:30:00.074000384-05:00         415  \n",
       "2017-01-03 09:30:00.074000384-05:00         415  \n",
       "2017-01-03 09:30:00.083000832-05:00         415  \n",
       "2017-01-03 09:30:00.093000448-05:00         475  \n",
       "2017-01-03 09:30:00.113000192-05:00         474  \n",
       "...                                         ...  \n",
       "2017-01-03 16:00:00-05:00                    11  \n",
       "2017-01-03 16:00:00-05:00                    11  \n",
       "2017-01-03 16:00:00-05:00                    11  \n",
       "2017-01-03 16:00:00-05:00                    10  \n",
       "2017-01-03 16:00:00-05:00                    11  \n",
       "\n",
       "[465117 rows x 4 columns]"
      ]
     },
     "execution_count": 5,
     "metadata": {},
     "output_type": "execute_result"
    }
   ],
   "source": [
    "Path = sys.path[0]\n",
    "AAPL_intraday = load_TRTH_bbo(Path+\"\\\\2017-01-03-AAPL.OQ-bbo.csv.gz\")\n",
    "AAPL_intraday"
   ]
  },
  {
   "cell_type": "markdown",
   "metadata": {},
   "source": [
    "### 3. Calcul des rendements\n",
    "#### 3.1 Données journalières"
   ]
  },
  {
   "cell_type": "code",
   "execution_count": 6,
   "metadata": {},
   "outputs": [
    {
     "data": {
      "text/html": [
       "<div>\n",
       "<style scoped>\n",
       "    .dataframe tbody tr th:only-of-type {\n",
       "        vertical-align: middle;\n",
       "    }\n",
       "\n",
       "    .dataframe tbody tr th {\n",
       "        vertical-align: top;\n",
       "    }\n",
       "\n",
       "    .dataframe thead tr th {\n",
       "        text-align: left;\n",
       "    }\n",
       "\n",
       "    .dataframe thead tr:last-of-type th {\n",
       "        text-align: right;\n",
       "    }\n",
       "</style>\n",
       "<table border=\"1\" class=\"dataframe\">\n",
       "  <thead>\n",
       "    <tr>\n",
       "      <th>Price</th>\n",
       "      <th>Close</th>\n",
       "      <th>High</th>\n",
       "      <th>Low</th>\n",
       "      <th>Open</th>\n",
       "      <th>Volume</th>\n",
       "      <th>Log Returns</th>\n",
       "    </tr>\n",
       "    <tr>\n",
       "      <th>Ticker</th>\n",
       "      <th>AAPL</th>\n",
       "      <th>AAPL</th>\n",
       "      <th>AAPL</th>\n",
       "      <th>AAPL</th>\n",
       "      <th>AAPL</th>\n",
       "      <th></th>\n",
       "    </tr>\n",
       "    <tr>\n",
       "      <th>Date</th>\n",
       "      <th></th>\n",
       "      <th></th>\n",
       "      <th></th>\n",
       "      <th></th>\n",
       "      <th></th>\n",
       "      <th></th>\n",
       "    </tr>\n",
       "  </thead>\n",
       "  <tbody>\n",
       "    <tr>\n",
       "      <th>2000-01-04</th>\n",
       "      <td>0.771149</td>\n",
       "      <td>0.832276</td>\n",
       "      <td>0.761274</td>\n",
       "      <td>0.814408</td>\n",
       "      <td>512377600</td>\n",
       "      <td>-0.088077</td>\n",
       "    </tr>\n",
       "    <tr>\n",
       "      <th>2000-01-05</th>\n",
       "      <td>0.782433</td>\n",
       "      <td>0.831806</td>\n",
       "      <td>0.774910</td>\n",
       "      <td>0.780552</td>\n",
       "      <td>778321600</td>\n",
       "      <td>0.014527</td>\n",
       "    </tr>\n",
       "    <tr>\n",
       "      <th>2000-01-06</th>\n",
       "      <td>0.714723</td>\n",
       "      <td>0.805004</td>\n",
       "      <td>0.714723</td>\n",
       "      <td>0.798421</td>\n",
       "      <td>767972800</td>\n",
       "      <td>-0.090514</td>\n",
       "    </tr>\n",
       "    <tr>\n",
       "      <th>2000-01-07</th>\n",
       "      <td>0.748578</td>\n",
       "      <td>0.759864</td>\n",
       "      <td>0.718485</td>\n",
       "      <td>0.726008</td>\n",
       "      <td>460734400</td>\n",
       "      <td>0.046281</td>\n",
       "    </tr>\n",
       "    <tr>\n",
       "      <th>2000-01-10</th>\n",
       "      <td>0.735412</td>\n",
       "      <td>0.769267</td>\n",
       "      <td>0.712842</td>\n",
       "      <td>0.767386</td>\n",
       "      <td>505064000</td>\n",
       "      <td>-0.017744</td>\n",
       "    </tr>\n",
       "    <tr>\n",
       "      <th>...</th>\n",
       "      <td>...</td>\n",
       "      <td>...</td>\n",
       "      <td>...</td>\n",
       "      <td>...</td>\n",
       "      <td>...</td>\n",
       "      <td>...</td>\n",
       "    </tr>\n",
       "    <tr>\n",
       "      <th>2024-12-24</th>\n",
       "      <td>257.916443</td>\n",
       "      <td>257.926411</td>\n",
       "      <td>255.009620</td>\n",
       "      <td>255.209412</td>\n",
       "      <td>23234700</td>\n",
       "      <td>0.011413</td>\n",
       "    </tr>\n",
       "    <tr>\n",
       "      <th>2024-12-26</th>\n",
       "      <td>258.735504</td>\n",
       "      <td>259.814335</td>\n",
       "      <td>257.347047</td>\n",
       "      <td>257.906429</td>\n",
       "      <td>27237100</td>\n",
       "      <td>0.003171</td>\n",
       "    </tr>\n",
       "    <tr>\n",
       "      <th>2024-12-27</th>\n",
       "      <td>255.309296</td>\n",
       "      <td>258.415896</td>\n",
       "      <td>252.782075</td>\n",
       "      <td>257.546826</td>\n",
       "      <td>42355300</td>\n",
       "      <td>-0.013331</td>\n",
       "    </tr>\n",
       "    <tr>\n",
       "      <th>2024-12-30</th>\n",
       "      <td>251.923019</td>\n",
       "      <td>253.221595</td>\n",
       "      <td>250.474615</td>\n",
       "      <td>251.952985</td>\n",
       "      <td>35557500</td>\n",
       "      <td>-0.013352</td>\n",
       "    </tr>\n",
       "    <tr>\n",
       "      <th>2024-12-31</th>\n",
       "      <td>250.144974</td>\n",
       "      <td>253.001833</td>\n",
       "      <td>249.156056</td>\n",
       "      <td>252.162760</td>\n",
       "      <td>39480700</td>\n",
       "      <td>-0.007083</td>\n",
       "    </tr>\n",
       "  </tbody>\n",
       "</table>\n",
       "<p>6288 rows × 6 columns</p>\n",
       "</div>"
      ],
      "text/plain": [
       "Price            Close        High         Low        Open     Volume  \\\n",
       "Ticker            AAPL        AAPL        AAPL        AAPL       AAPL   \n",
       "Date                                                                    \n",
       "2000-01-04    0.771149    0.832276    0.761274    0.814408  512377600   \n",
       "2000-01-05    0.782433    0.831806    0.774910    0.780552  778321600   \n",
       "2000-01-06    0.714723    0.805004    0.714723    0.798421  767972800   \n",
       "2000-01-07    0.748578    0.759864    0.718485    0.726008  460734400   \n",
       "2000-01-10    0.735412    0.769267    0.712842    0.767386  505064000   \n",
       "...                ...         ...         ...         ...        ...   \n",
       "2024-12-24  257.916443  257.926411  255.009620  255.209412   23234700   \n",
       "2024-12-26  258.735504  259.814335  257.347047  257.906429   27237100   \n",
       "2024-12-27  255.309296  258.415896  252.782075  257.546826   42355300   \n",
       "2024-12-30  251.923019  253.221595  250.474615  251.952985   35557500   \n",
       "2024-12-31  250.144974  253.001833  249.156056  252.162760   39480700   \n",
       "\n",
       "Price      Log Returns  \n",
       "Ticker                  \n",
       "Date                    \n",
       "2000-01-04   -0.088077  \n",
       "2000-01-05    0.014527  \n",
       "2000-01-06   -0.090514  \n",
       "2000-01-07    0.046281  \n",
       "2000-01-10   -0.017744  \n",
       "...                ...  \n",
       "2024-12-24    0.011413  \n",
       "2024-12-26    0.003171  \n",
       "2024-12-27   -0.013331  \n",
       "2024-12-30   -0.013352  \n",
       "2024-12-31   -0.007083  \n",
       "\n",
       "[6288 rows x 6 columns]"
      ]
     },
     "execution_count": 6,
     "metadata": {},
     "output_type": "execute_result"
    }
   ],
   "source": [
    "# Ici les prix sont ajustés automatiquement donc on va calculer\n",
    "# les log-rendements sur la colonne \"Close\"\n",
    "AAPL_daily[\"Log Returns\"] = np.log(AAPL_daily['Close']).diff().values\n",
    "AAPL_daily = AAPL_daily.dropna()\n",
    "AAPL_daily"
   ]
  },
  {
   "cell_type": "markdown",
   "metadata": {},
   "source": [
    "#### 3.2 Données intraday "
   ]
  },
  {
   "cell_type": "code",
   "execution_count": 7,
   "metadata": {},
   "outputs": [
    {
     "data": {
      "text/html": [
       "<div>\n",
       "<style scoped>\n",
       "    .dataframe tbody tr th:only-of-type {\n",
       "        vertical-align: middle;\n",
       "    }\n",
       "\n",
       "    .dataframe tbody tr th {\n",
       "        vertical-align: top;\n",
       "    }\n",
       "\n",
       "    .dataframe thead th {\n",
       "        text-align: right;\n",
       "    }\n",
       "</style>\n",
       "<table border=\"1\" class=\"dataframe\">\n",
       "  <thead>\n",
       "    <tr style=\"text-align: right;\">\n",
       "      <th></th>\n",
       "      <th>bid-price</th>\n",
       "      <th>bid-volume</th>\n",
       "      <th>ask-price</th>\n",
       "      <th>ask-volume</th>\n",
       "      <th>Mid</th>\n",
       "      <th>Returns</th>\n",
       "    </tr>\n",
       "    <tr>\n",
       "      <th>xltime</th>\n",
       "      <th></th>\n",
       "      <th></th>\n",
       "      <th></th>\n",
       "      <th></th>\n",
       "      <th></th>\n",
       "      <th></th>\n",
       "    </tr>\n",
       "  </thead>\n",
       "  <tbody>\n",
       "    <tr>\n",
       "      <th>2017-01-03 09:30:00.074000384-05:00</th>\n",
       "      <td>115.80</td>\n",
       "      <td>4</td>\n",
       "      <td>115.82</td>\n",
       "      <td>415</td>\n",
       "      <td>115.81</td>\n",
       "      <td>-0.005</td>\n",
       "    </tr>\n",
       "    <tr>\n",
       "      <th>2017-01-03 09:30:00.083000832-05:00</th>\n",
       "      <td>115.80</td>\n",
       "      <td>18</td>\n",
       "      <td>115.82</td>\n",
       "      <td>415</td>\n",
       "      <td>115.81</td>\n",
       "      <td>0.000</td>\n",
       "    </tr>\n",
       "    <tr>\n",
       "      <th>2017-01-03 09:30:00.093000448-05:00</th>\n",
       "      <td>115.80</td>\n",
       "      <td>18</td>\n",
       "      <td>115.82</td>\n",
       "      <td>475</td>\n",
       "      <td>115.81</td>\n",
       "      <td>0.000</td>\n",
       "    </tr>\n",
       "    <tr>\n",
       "      <th>2017-01-03 09:30:00.113000192-05:00</th>\n",
       "      <td>115.80</td>\n",
       "      <td>18</td>\n",
       "      <td>115.82</td>\n",
       "      <td>474</td>\n",
       "      <td>115.81</td>\n",
       "      <td>0.000</td>\n",
       "    </tr>\n",
       "    <tr>\n",
       "      <th>2017-01-03 09:30:00.164000-05:00</th>\n",
       "      <td>115.80</td>\n",
       "      <td>18</td>\n",
       "      <td>115.82</td>\n",
       "      <td>448</td>\n",
       "      <td>115.81</td>\n",
       "      <td>0.000</td>\n",
       "    </tr>\n",
       "    <tr>\n",
       "      <th>...</th>\n",
       "      <td>...</td>\n",
       "      <td>...</td>\n",
       "      <td>...</td>\n",
       "      <td>...</td>\n",
       "      <td>...</td>\n",
       "      <td>...</td>\n",
       "    </tr>\n",
       "    <tr>\n",
       "      <th>2017-01-03 16:00:00-05:00</th>\n",
       "      <td>116.13</td>\n",
       "      <td>234</td>\n",
       "      <td>116.15</td>\n",
       "      <td>11</td>\n",
       "      <td>116.14</td>\n",
       "      <td>0.000</td>\n",
       "    </tr>\n",
       "    <tr>\n",
       "      <th>2017-01-03 16:00:00-05:00</th>\n",
       "      <td>116.13</td>\n",
       "      <td>173</td>\n",
       "      <td>116.15</td>\n",
       "      <td>11</td>\n",
       "      <td>116.14</td>\n",
       "      <td>0.000</td>\n",
       "    </tr>\n",
       "    <tr>\n",
       "      <th>2017-01-03 16:00:00-05:00</th>\n",
       "      <td>116.13</td>\n",
       "      <td>169</td>\n",
       "      <td>116.15</td>\n",
       "      <td>11</td>\n",
       "      <td>116.14</td>\n",
       "      <td>0.000</td>\n",
       "    </tr>\n",
       "    <tr>\n",
       "      <th>2017-01-03 16:00:00-05:00</th>\n",
       "      <td>116.13</td>\n",
       "      <td>169</td>\n",
       "      <td>116.15</td>\n",
       "      <td>10</td>\n",
       "      <td>116.14</td>\n",
       "      <td>0.000</td>\n",
       "    </tr>\n",
       "    <tr>\n",
       "      <th>2017-01-03 16:00:00-05:00</th>\n",
       "      <td>116.13</td>\n",
       "      <td>169</td>\n",
       "      <td>116.15</td>\n",
       "      <td>11</td>\n",
       "      <td>116.14</td>\n",
       "      <td>0.000</td>\n",
       "    </tr>\n",
       "  </tbody>\n",
       "</table>\n",
       "<p>465116 rows × 6 columns</p>\n",
       "</div>"
      ],
      "text/plain": [
       "                                     bid-price  bid-volume  ask-price  \\\n",
       "xltime                                                                  \n",
       "2017-01-03 09:30:00.074000384-05:00     115.80           4     115.82   \n",
       "2017-01-03 09:30:00.083000832-05:00     115.80          18     115.82   \n",
       "2017-01-03 09:30:00.093000448-05:00     115.80          18     115.82   \n",
       "2017-01-03 09:30:00.113000192-05:00     115.80          18     115.82   \n",
       "2017-01-03 09:30:00.164000-05:00        115.80          18     115.82   \n",
       "...                                        ...         ...        ...   \n",
       "2017-01-03 16:00:00-05:00               116.13         234     116.15   \n",
       "2017-01-03 16:00:00-05:00               116.13         173     116.15   \n",
       "2017-01-03 16:00:00-05:00               116.13         169     116.15   \n",
       "2017-01-03 16:00:00-05:00               116.13         169     116.15   \n",
       "2017-01-03 16:00:00-05:00               116.13         169     116.15   \n",
       "\n",
       "                                     ask-volume     Mid  Returns  \n",
       "xltime                                                            \n",
       "2017-01-03 09:30:00.074000384-05:00         415  115.81   -0.005  \n",
       "2017-01-03 09:30:00.083000832-05:00         415  115.81    0.000  \n",
       "2017-01-03 09:30:00.093000448-05:00         475  115.81    0.000  \n",
       "2017-01-03 09:30:00.113000192-05:00         474  115.81    0.000  \n",
       "2017-01-03 09:30:00.164000-05:00            448  115.81    0.000  \n",
       "...                                         ...     ...      ...  \n",
       "2017-01-03 16:00:00-05:00                    11  116.14    0.000  \n",
       "2017-01-03 16:00:00-05:00                    11  116.14    0.000  \n",
       "2017-01-03 16:00:00-05:00                    11  116.14    0.000  \n",
       "2017-01-03 16:00:00-05:00                    10  116.14    0.000  \n",
       "2017-01-03 16:00:00-05:00                    11  116.14    0.000  \n",
       "\n",
       "[465116 rows x 6 columns]"
      ]
     },
     "execution_count": 7,
     "metadata": {},
     "output_type": "execute_result"
    }
   ],
   "source": [
    "# On considère le stock Apple donc les marchés Américains. Dans la fonction \n",
    "# load_TRTH_bbo, on a donc utilisé les horaires du marché, entre 9h30 et 16h \n",
    "# pour extraire les données. \n",
    "# On calcule dans un premier temps la colonne de prix moyen mid\n",
    "AAPL_intraday[\"Mid\"] = (AAPL_intraday[\"bid-price\"] + AAPL_intraday[\"ask-price\"])/2\n",
    "# On calcule ensuite les rendements sur la colonne \"Mid\"\n",
    "AAPL_intraday[\"Returns\"] = (AAPL_intraday[\"Mid\"]).diff().values\n",
    "AAPL_intraday = AAPL_intraday.dropna(subset=[\"Returns\"])  \n",
    "AAPL_intraday"
   ]
  },
  {
   "cell_type": "code",
   "execution_count": 8,
   "metadata": {},
   "outputs": [
    {
     "data": {
      "text/html": [
       "<div>\n",
       "<style scoped>\n",
       "    .dataframe tbody tr th:only-of-type {\n",
       "        vertical-align: middle;\n",
       "    }\n",
       "\n",
       "    .dataframe tbody tr th {\n",
       "        vertical-align: top;\n",
       "    }\n",
       "\n",
       "    .dataframe thead th {\n",
       "        text-align: right;\n",
       "    }\n",
       "</style>\n",
       "<table border=\"1\" class=\"dataframe\">\n",
       "  <thead>\n",
       "    <tr style=\"text-align: right;\">\n",
       "      <th></th>\n",
       "      <th>bid-price</th>\n",
       "      <th>bid-volume</th>\n",
       "      <th>ask-price</th>\n",
       "      <th>ask-volume</th>\n",
       "      <th>Mid</th>\n",
       "      <th>Returns</th>\n",
       "      <th>Log Returns</th>\n",
       "    </tr>\n",
       "    <tr>\n",
       "      <th>xltime</th>\n",
       "      <th></th>\n",
       "      <th></th>\n",
       "      <th></th>\n",
       "      <th></th>\n",
       "      <th></th>\n",
       "      <th></th>\n",
       "      <th></th>\n",
       "    </tr>\n",
       "  </thead>\n",
       "  <tbody>\n",
       "    <tr>\n",
       "      <th>2017-01-03 09:30:05-05:00</th>\n",
       "      <td>115.70</td>\n",
       "      <td>5.0</td>\n",
       "      <td>115.77</td>\n",
       "      <td>2.0</td>\n",
       "      <td>115.735</td>\n",
       "      <td>0.000</td>\n",
       "      <td>-0.000346</td>\n",
       "    </tr>\n",
       "    <tr>\n",
       "      <th>2017-01-03 09:30:10-05:00</th>\n",
       "      <td>115.71</td>\n",
       "      <td>2.0</td>\n",
       "      <td>115.75</td>\n",
       "      <td>3.0</td>\n",
       "      <td>115.730</td>\n",
       "      <td>0.000</td>\n",
       "      <td>-0.000043</td>\n",
       "    </tr>\n",
       "    <tr>\n",
       "      <th>2017-01-03 09:30:15-05:00</th>\n",
       "      <td>115.56</td>\n",
       "      <td>2.0</td>\n",
       "      <td>115.73</td>\n",
       "      <td>1.0</td>\n",
       "      <td>115.645</td>\n",
       "      <td>0.025</td>\n",
       "      <td>-0.000735</td>\n",
       "    </tr>\n",
       "    <tr>\n",
       "      <th>2017-01-03 09:30:20-05:00</th>\n",
       "      <td>115.50</td>\n",
       "      <td>31.0</td>\n",
       "      <td>115.69</td>\n",
       "      <td>2.0</td>\n",
       "      <td>115.595</td>\n",
       "      <td>0.000</td>\n",
       "      <td>-0.000432</td>\n",
       "    </tr>\n",
       "    <tr>\n",
       "      <th>2017-01-03 09:30:25-05:00</th>\n",
       "      <td>115.57</td>\n",
       "      <td>2.0</td>\n",
       "      <td>115.67</td>\n",
       "      <td>2.0</td>\n",
       "      <td>115.620</td>\n",
       "      <td>0.000</td>\n",
       "      <td>0.000216</td>\n",
       "    </tr>\n",
       "    <tr>\n",
       "      <th>...</th>\n",
       "      <td>...</td>\n",
       "      <td>...</td>\n",
       "      <td>...</td>\n",
       "      <td>...</td>\n",
       "      <td>...</td>\n",
       "      <td>...</td>\n",
       "      <td>...</td>\n",
       "    </tr>\n",
       "    <tr>\n",
       "      <th>2017-01-03 15:59:40-05:00</th>\n",
       "      <td>115.98</td>\n",
       "      <td>2.0</td>\n",
       "      <td>115.99</td>\n",
       "      <td>11.0</td>\n",
       "      <td>115.985</td>\n",
       "      <td>0.000</td>\n",
       "      <td>0.000000</td>\n",
       "    </tr>\n",
       "    <tr>\n",
       "      <th>2017-01-03 15:59:45-05:00</th>\n",
       "      <td>115.93</td>\n",
       "      <td>3.0</td>\n",
       "      <td>115.94</td>\n",
       "      <td>4.0</td>\n",
       "      <td>115.935</td>\n",
       "      <td>0.000</td>\n",
       "      <td>-0.000431</td>\n",
       "    </tr>\n",
       "    <tr>\n",
       "      <th>2017-01-03 15:59:50-05:00</th>\n",
       "      <td>116.04</td>\n",
       "      <td>5.0</td>\n",
       "      <td>116.06</td>\n",
       "      <td>2.0</td>\n",
       "      <td>116.050</td>\n",
       "      <td>0.000</td>\n",
       "      <td>0.000991</td>\n",
       "    </tr>\n",
       "    <tr>\n",
       "      <th>2017-01-03 15:59:55-05:00</th>\n",
       "      <td>116.13</td>\n",
       "      <td>234.0</td>\n",
       "      <td>116.15</td>\n",
       "      <td>10.0</td>\n",
       "      <td>116.140</td>\n",
       "      <td>0.000</td>\n",
       "      <td>0.000775</td>\n",
       "    </tr>\n",
       "    <tr>\n",
       "      <th>2017-01-03 16:00:00-05:00</th>\n",
       "      <td>116.13</td>\n",
       "      <td>169.0</td>\n",
       "      <td>116.15</td>\n",
       "      <td>11.0</td>\n",
       "      <td>116.140</td>\n",
       "      <td>0.000</td>\n",
       "      <td>0.000000</td>\n",
       "    </tr>\n",
       "  </tbody>\n",
       "</table>\n",
       "<p>4665 rows × 7 columns</p>\n",
       "</div>"
      ],
      "text/plain": [
       "                           bid-price  bid-volume  ask-price  ask-volume  \\\n",
       "xltime                                                                    \n",
       "2017-01-03 09:30:05-05:00     115.70         5.0     115.77         2.0   \n",
       "2017-01-03 09:30:10-05:00     115.71         2.0     115.75         3.0   \n",
       "2017-01-03 09:30:15-05:00     115.56         2.0     115.73         1.0   \n",
       "2017-01-03 09:30:20-05:00     115.50        31.0     115.69         2.0   \n",
       "2017-01-03 09:30:25-05:00     115.57         2.0     115.67         2.0   \n",
       "...                              ...         ...        ...         ...   \n",
       "2017-01-03 15:59:40-05:00     115.98         2.0     115.99        11.0   \n",
       "2017-01-03 15:59:45-05:00     115.93         3.0     115.94         4.0   \n",
       "2017-01-03 15:59:50-05:00     116.04         5.0     116.06         2.0   \n",
       "2017-01-03 15:59:55-05:00     116.13       234.0     116.15        10.0   \n",
       "2017-01-03 16:00:00-05:00     116.13       169.0     116.15        11.0   \n",
       "\n",
       "                               Mid  Returns  Log Returns  \n",
       "xltime                                                    \n",
       "2017-01-03 09:30:05-05:00  115.735    0.000    -0.000346  \n",
       "2017-01-03 09:30:10-05:00  115.730    0.000    -0.000043  \n",
       "2017-01-03 09:30:15-05:00  115.645    0.025    -0.000735  \n",
       "2017-01-03 09:30:20-05:00  115.595    0.000    -0.000432  \n",
       "2017-01-03 09:30:25-05:00  115.620    0.000     0.000216  \n",
       "...                            ...      ...          ...  \n",
       "2017-01-03 15:59:40-05:00  115.985    0.000     0.000000  \n",
       "2017-01-03 15:59:45-05:00  115.935    0.000    -0.000431  \n",
       "2017-01-03 15:59:50-05:00  116.050    0.000     0.000991  \n",
       "2017-01-03 15:59:55-05:00  116.140    0.000     0.000775  \n",
       "2017-01-03 16:00:00-05:00  116.140    0.000     0.000000  \n",
       "\n",
       "[4665 rows x 7 columns]"
      ]
     },
     "execution_count": 8,
     "metadata": {},
     "output_type": "execute_result"
    }
   ],
   "source": [
    "# On resample à 5 secondes pour avoir un dataset plus lisible et on calcule les log\n",
    "# rendements sur la colonne \"Mid\"\n",
    "AAPL_intraday_resampled = AAPL_intraday.resample(\"5S\").last()\n",
    "AAPL_intraday_resampled[\"Log Returns\"] = np.log(AAPL_intraday_resampled[\"Mid\"]).diff().values\n",
    "AAPL_intraday_resampled = AAPL_intraday_resampled.dropna(subset=[\"Log Returns\"])\n",
    "AAPL_intraday_resampled "
   ]
  },
  {
   "cell_type": "markdown",
   "metadata": {},
   "source": [
    "### 4. Analyse empirique\n",
    "#### 4.1 Rendements : types de distribution\n",
    "\n",
    "*Les questions suivantes seront traitées à la fois sur les données journalières et sur les données intraday.*"
   ]
  },
  {
   "cell_type": "markdown",
   "metadata": {},
   "source": [
    "*1. Dans un premier temps, nous allons tester la gaussianité des rendements.*"
   ]
  },
  {
   "cell_type": "code",
   "execution_count": 23,
   "metadata": {},
   "outputs": [
    {
     "data": {
      "image/png": "[encoded data removed]",
      "text/plain": [
       "<Figure size 432x288 with 1 Axes>"
      ]
     },
     "metadata": {
      "needs_background": "light"
     },
     "output_type": "display_data"
    }
   ],
   "source": [
    "# On affiche un QQ-plot pour tester la gaussianité des log-rendements des prix intradays\n",
    "stats.probplot(AAPL_intraday_resampled[\"Log Returns\"], dist=\"norm\", plot=plt)\n",
    "plt.show()"
   ]
  },
  {
   "cell_type": "code",
   "execution_count": 10,
   "metadata": {},
   "outputs": [
    {
     "data": {
      "image/png": "[encoded data removed]",
      "text/plain": [
       "<Figure size 432x288 with 1 Axes>"
      ]
     },
     "metadata": {
      "needs_background": "light"
     },
     "output_type": "display_data"
    }
   ],
   "source": [
    "# On affiche un QQ-plot pour tester la gaussianité des log-rendements des prix journaliers\n",
    "stats.probplot(AAPL_daily[\"Log Returns\"], dist=\"norm\", plot=plt)\n",
    "plt.show()"
   ]
  },
  {
   "cell_type": "markdown",
   "metadata": {},
   "source": [
    "Ainsi, nous pouvons constater que les deux QQ-plots ne sont pas ceux d'une loi normale étant donné que les points ne suivent pas la droite.\n",
    "\n",
    "Cependant, le premier QQ-plot représente mieux une loi normale que le second, car ses extrêmes sont plus contenus malgré un léger effet de kurtosis et la plupart des points restent alignés avec la droite rouge. Le deuxième QQ-plot montre une déviation plus forte, indiquant une distribution encore moins gaussienne.\n",
    "\n",
    "Ceci est probablement dû au fait que les rendements financiers ont souvent des distributions leptokurtiques, avec des événements extrêmes plus fréquemment attendu que pour une distribution gaussienne (queues lourdes)."
   ]
  },
  {
   "cell_type": "markdown",
   "metadata": {},
   "source": [
    "*2. Dans un second temps, nous allons déterminer graphiquement si la distribution de la valeur absolue des rendements a une queue lourde.*"
   ]
  },
  {
   "cell_type": "code",
   "execution_count": 11,
   "metadata": {},
   "outputs": [
    {
     "data": {
      "image/png": "[encoded data removed]",
      "text/plain": [
       "<Figure size 720x360 with 1 Axes>"
      ]
     },
     "metadata": {
      "needs_background": "light"
     },
     "output_type": "display_data"
    }
   ],
   "source": [
    "# a. On trace la fonction complémentaire de la distribution cumulée (ccdf ou survivor function) avec des axes linéaires en X et log en Y. \n",
    "# Si on trouve une concavité, c'est un signe de la trace d'une queue lourde.\n",
    "ecdf_intraday = ECDF(AAPL_intraday_resampled[\"Log Returns\"])\n",
    "plt.figure(figsize=(10,5))\n",
    "plt.plot(ecdf_intraday.x, 1-ecdf_intraday.y, color = \"blue\", label = \"CCDF intraday\")\n",
    "plt.plot(ecdf_intraday.x, 1-stats.norm.cdf(ecdf_intraday.x,loc=AAPL_intraday_resampled[\"Log Returns\"].mean(),scale=AAPL_intraday_resampled[\"Log Returns\"].std()), color = \"red\", label =\"CCDFF normale\")\n",
    "plt.yscale(\"log\")\n",
    "plt.title(\"Comparaison de la CCDF des log-rendements intradays par rapport à celle d'une loi normale\")\n",
    "plt.legend()\n",
    "plt.show()"
   ]
  },
  {
   "cell_type": "markdown",
   "metadata": {},
   "source": [
    "On se rend compte que la CCDF décroit de 0 à 1 ce qui est cohérent puisqu'elle représente $P(r>x)$, soit la probabilité d'avoir un rendement supérieur à une certaine valeur. La décroissance est en marche et non lisse puisqu'on a un nombre limité de valeurs.\n",
    "\n",
    "La décroissance plus faible qu'une loi normale sur la partie droite du graph indique la présence de queues lourdes. "
   ]
  },
  {
   "cell_type": "code",
   "execution_count": 12,
   "metadata": {},
   "outputs": [
    {
     "data": {
      "image/png": "[encoded data removed]",
      "text/plain": [
       "<Figure size 720x360 with 1 Axes>"
      ]
     },
     "metadata": {
      "needs_background": "light"
     },
     "output_type": "display_data"
    }
   ],
   "source": [
    "ecdf_daily = ECDF(AAPL_daily[\"Log Returns\"])\n",
    "plt.figure(figsize=(10,5))\n",
    "plt.plot(ecdf_daily.x, 1-ecdf_daily.y, color = \"blue\", label = \"CCDF daily\")\n",
    "plt.plot(ecdf_daily.x, 1-stats.norm.cdf(ecdf_daily.x,loc=AAPL_daily[\"Log Returns\"].mean(),scale=AAPL_daily[\"Log Returns\"].std()), color = \"red\", label =\"CCDFF normale\")\n",
    "plt.yscale(\"log\")\n",
    "plt.title(\"Comparaison de la CCDF des log-rendements daily par rapport à celle d'une loi normale\")\n",
    "plt.legend()\n",
    "plt.show()"
   ]
  },
  {
   "cell_type": "markdown",
   "metadata": {},
   "source": [
    "Déjà, remarquons la différence sur la granularité des données : en intraday, on avait un nombre limité de valeurs dû au fait que les rendements possibles sont contraints par la fréquence d'échantillonage et la microstructure du marché. Donc la CCDF n'est pas parfaitement lisse et forme des paliers. \n",
    "\n",
    "Au contraire, au niveau des rendements daily, on a accumulé du fait de l'historique de 25 ans de données beaucoup de valeurs différentes donnant une distribution plus continue et donc plus lisse. Les effets journaliers sont donc moins contraints par la microstructure du marché. \n",
    "\n",
    "Ensuite, on remarque que la décroissance de la CCDF des rendements daily est moins importante que celle de la loi normale sur une partie des données, montrant la présence de queues lourdes. Cependant, ces queues sont beaucoup moins marquées que pour les rendements intradays."
   ]
  },
  {
   "cell_type": "markdown",
   "metadata": {},
   "source": [
    "*b. Nous allons maintenant tracer le QQ-plot de $\\frac{|r|}{\\mathbb{E}(|r|)}$ avec une distribution exponentielle de moyenne 1 comme distribution théorique.*"
   ]
  },
  {
   "cell_type": "code",
   "execution_count": 30,
   "metadata": {},
   "outputs": [
    {
     "data": {
      "image/png": "[encoded data removed]",
      "text/plain": [
       "<Figure size 432x288 with 1 Axes>"
      ]
     },
     "metadata": {
      "needs_background": "light"
     },
     "output_type": "display_data"
    }
   ],
   "source": [
    "# On prend la distribution exponentielle de moyenne 1 comme distribution de référence pour le QQ-plot\n",
    "# On va tracer le QQ-plot des log-rendements divisés par l'espérance des log-rendements\n",
    "stats.probplot(np.abs(AAPL_intraday_resampled[\"Log Returns\"])/np.abs(AAPL_intraday_resampled[\"Log Returns\"]).mean(), dist=\"expon\", plot=plt)\n",
    "plt.show()"
   ]
  },
  {
   "cell_type": "code",
   "execution_count": 32,
   "metadata": {},
   "outputs": [
    {
     "data": {
      "image/png": "[encoded data removed]",
      "text/plain": [
       "<Figure size 432x288 with 1 Axes>"
      ]
     },
     "metadata": {
      "needs_background": "light"
     },
     "output_type": "display_data"
    }
   ],
   "source": [
    "stats.probplot(np.abs(AAPL_daily[\"Log Returns\"])/np.abs(AAPL_daily[\"Log Returns\"]).mean(), dist=\"expon\", plot=plt)\n",
    "plt.show()"
   ]
  },
  {
   "cell_type": "markdown",
   "metadata": {},
   "source": [
    "Ainsi, nous pouvons remarquer que l'ajustement est meilleur pour une loi exponentielle que pour une loi normale. Mais on observe encore une déviation assez importante dans les queues. En intraday, les grandes valeurs s'éloignent très fortement de la distribution théorique et les rendements absolus suivent donc une décroissance encore plus lente. En revanche, l'exponentielle est un meilleur fit pour les rendements daily même si les valeurs extrêmes sont plus fréquentes que prévu ce qui montre que cette distribution théorique reste imparfaite. "
   ]
  },
  {
   "cell_type": "markdown",
   "metadata": {},
   "source": [
    "*c. Nous allons maintenant calculer la distance maximale entre les quantiles empiriques de $\\frac{|r|}{\\mathbb{E}(|r|)}$ et les quantiles d'une distribution exponentielle de moyenne 1 pour les rendements plus extrêmes que les rendements exponentiels, soit le $max_{q} | q(\\phi)-q_{exp}(\\phi)|_{+}$ avec $\\phi \\in ]0, 1[$.*"
   ]
  },
  {
   "cell_type": "code",
   "execution_count": 20,
   "metadata": {},
   "outputs": [
    {
     "name": "stdout",
     "output_type": "stream",
     "text": [
      "La distance maximale entre les quantiles empiriques intraday et les quantiles d'une distribution exponentielle de moyenne 1 est de 18.419288351322766\n"
     ]
    }
   ],
   "source": [
    "# Affichons la distance maximale entre les quantiles empiriques et les quantiles d'une distribution exponentielle de moyenne 1 pour les rendements plus extrêmes \n",
    "quantiles = np.linspace(1e-8,1-1e-8,100000)\n",
    "quantiles_empiriques_intraday = np.quantile(AAPL_intraday_resampled[\"Log Returns\"],quantiles)\n",
    "quantiles_exponentielle = stats.expon.ppf(quantiles)\n",
    "distance_intraday = max(np.abs(quantiles_empiriques_intraday-quantiles_exponentielle))\n",
    "print(\"La distance maximale entre les quantiles empiriques intraday et les quantiles d'une distribution exponentielle de moyenne 1 est de\",distance_intraday)"
   ]
  },
  {
   "cell_type": "code",
   "execution_count": 21,
   "metadata": {},
   "outputs": [
    {
     "name": "stdout",
     "output_type": "stream",
     "text": [
      "La distance maximale entre les quantiles empiriques daily et les quantiles d'une distribution exponentielle de moyenne 1 est de 18.290487030658195\n"
     ]
    }
   ],
   "source": [
    "# Affichons la distance maximale entre les quantiles empiriques et les quantiles d'une distribution exponentielle de moyenne 1 pour les rendements plus extrêmes \n",
    "quantiles_empiriques_daily = np.quantile(AAPL_daily[\"Log Returns\"],quantiles)\n",
    "distance_daily = max(np.abs(quantiles_empiriques_daily-quantiles_exponentielle))\n",
    "print(\"La distance maximale entre les quantiles empiriques daily et les quantiles d'une distribution exponentielle de moyenne 1 est de\",distance_daily)"
   ]
  },
  {
   "cell_type": "markdown",
   "metadata": {},
   "source": [
    "Les distances maximales entre quantiles empiriques et quantiles théoriques pour les rendements plus extrêmes que les rendements exponentiels sont très proches entre les rendements intraday et daily. Les distributions sont similaires dans leur maximum de déviation par rapport à l'exponentielle, cependant la forme du QQ-plot à la question précédente montre que la nature de la déviation diffère : les écarts sont plus brutaux et moins lissés pour les intraday. "
   ]
  },
  {
   "cell_type": "markdown",
   "metadata": {},
   "source": [
    "*d. Nous allons pour finir générer des rendements iid avec une loi de Laplace (double exponentielle) et répéter le point précédent.*"
   ]
  },
  {
   "cell_type": "code",
   "execution_count": 39,
   "metadata": {},
   "outputs": [
    {
     "data": {
      "image/png": "[encoded data removed]",
      "text/plain": [
       "<Figure size 432x288 with 1 Axes>"
      ]
     },
     "metadata": {
      "needs_background": "light"
     },
     "output_type": "display_data"
    }
   ],
   "source": [
    "# Génération de rendements iid avec une loi de Laplace\n",
    "n = 1000\n",
    "mu = 0\n",
    "b = 1\n",
    "np.random.seed(42)\n",
    "laplace = np.random.laplace(mu,b,n)\n",
    "# Afficher la distribution des rendements pour visualiser la distribution de Laplace\n",
    "plt.hist(laplace,bins=50)\n",
    "plt.show()"
   ]
  },
  {
   "cell_type": "code",
   "execution_count": 40,
   "metadata": {},
   "outputs": [
    {
     "data": {
      "image/png": "[encoded data removed]",
      "text/plain": [
       "<Figure size 720x360 with 1 Axes>"
      ]
     },
     "metadata": {
      "needs_background": "light"
     },
     "output_type": "display_data"
    }
   ],
   "source": [
    "# On affiche maintenant la CCDF associée.\n",
    "plt.figure(figsize=(10,5))\n",
    "ecdf_laplace = ECDF(laplace)\n",
    "plt.plot(ecdf_laplace.x, 1-ecdf_laplace.y, color = \"blue\", label = \"CCDF Laplace\")\n",
    "plt.plot(ecdf_laplace.x, 1-stats.norm.cdf(ecdf_laplace.x,loc=mu,scale=b), color = \"red\", label =\"CCDFF normale\")\n",
    "plt.yscale(\"log\")\n",
    "plt.title(\"Comparaison de la CCDF des rendements de Laplace par rapport à celle d'une loi normale\")\n",
    "plt.legend()\n",
    "plt.show()"
   ]
  },
  {
   "cell_type": "code",
   "execution_count": 41,
   "metadata": {},
   "outputs": [
    {
     "data": {
      "image/png": "[encoded data removed]",
      "text/plain": [
       "<Figure size 432x288 with 1 Axes>"
      ]
     },
     "metadata": {
      "needs_background": "light"
     },
     "output_type": "display_data"
    }
   ],
   "source": [
    "# On affiche le QQ-plot des rendements de Laplace divisés par l'espérance des rendements\n",
    "stats.probplot(np.abs(laplace)/np.abs(laplace).mean(), dist=\"expon\", plot=plt)\n",
    "plt.show()"
   ]
  },
  {
   "cell_type": "code",
   "execution_count": 42,
   "metadata": {},
   "outputs": [
    {
     "name": "stdout",
     "output_type": "stream",
     "text": [
      "La distance maximale entre les quantiles empiriques de Laplace et les quantiles d'une distribution exponentielle de moyenne 1 est de 10.94140634126585\n"
     ]
    }
   ],
   "source": [
    "# Affichons la distance maximale entre les quantiles empiriques et les quantiles d'une distribution exponentielle de moyenne 1 pour les rendements plus extrêmes\n",
    "quantiles_laplace = np.quantile(laplace,quantiles)\n",
    "distance_laplace = max(np.abs(quantiles_laplace-quantiles_exponentielle))\n",
    "print(\"La distance maximale entre les quantiles empiriques de Laplace et les quantiles d'une distribution exponentielle de moyenne 1 est de\",distance_laplace)"
   ]
  },
  {
   "cell_type": "markdown",
   "metadata": {},
   "source": [
    "Ainsi, les rendements distribués suivant une loi de Laplace ont des queues plus lourdes que la loi normale comme prouvé par le graph de la CCDF. En revanche, la loi exponentielle fit plutôt bien la loi de Laplace puisque le QQ-plot affiche presque une droite, avec des points qui ne s'écartent que légèrement. Les queues sont donc légèrement plus lourdes que celles de la loi exponentielle, mais beaucoup moins que nos rendements intraday et daily comme le montre la distance maximale qui vaut 10,94 et non plus de 18. \n",
    "\n",
    "Nous pouvons donc dire que nos rendements financiers intraday ont des queues plus lourdes que les rendements daily (du fait de leur distribution des quantiles dans le QQ-plot plus éloigné de la loi exponentielle), qui ont eu même des queues plus lourdes que la loi de Laplace, et donc à fortiori de la loi exponentielle. \n",
    "\n",
    "Ces queues lourdes expliquent pourquoi les chocs extrêmes sur les marchés financiers sont plus fréquents que ce que prédirait une distribution exponentielle ou normale, qui par définition ne présentent pas de queues lourdes. "
   ]
  },
  {
   "cell_type": "markdown",
   "metadata": {},
   "source": [
    "*3. Maintenant que nous avons trouvé que les rendements financiers ont des queues lourdes, nous allons déterminer l'exposant de la queue de distribution grâce au paquet Powerlaw.*"
   ]
  },
  {
   "cell_type": "code",
   "execution_count": 49,
   "metadata": {},
   "outputs": [
    {
     "name": "stderr",
     "output_type": "stream",
     "text": [
      "Values less than or equal to 0 in data. Throwing out 0 or negative values\n"
     ]
    },
    {
     "name": "stdout",
     "output_type": "stream",
     "text": [
      "Calculating best minimal value for power law fit\n",
      "L'exposant de la queue de distribution pour les rendements intraday est de 4.1714174382363565\n",
      "Valeur minimale x_min à partir de laquelle la loi de puissance s'ajuste : 0.0006944143328393437\n"
     ]
    }
   ],
   "source": [
    "# Déterminons maintenant l'exposant de la queue de distribution avec le paquet Powerlaw\n",
    "fit_intraday = powerlaw.Fit(np.abs(AAPL_intraday_resampled[\"Log Returns\"]), discrete=False)\n",
    "print(\"L'exposant de la queue de distribution pour les rendements intraday est de\",fit_intraday.alpha)\n",
    "print(\"Valeur minimale x_min à partir de laquelle la loi de puissance s'ajuste :\", fit_intraday.xmin)"
   ]
  },
  {
   "cell_type": "code",
   "execution_count": 50,
   "metadata": {},
   "outputs": [
    {
     "name": "stderr",
     "output_type": "stream",
     "text": [
      "Values less than or equal to 0 in data. Throwing out 0 or negative values\n"
     ]
    },
    {
     "name": "stdout",
     "output_type": "stream",
     "text": [
      "Calculating best minimal value for power law fit\n",
      "L'exposant de la queue de distribution pour les rendements daily est de 3.8320271854749577\n",
      "Valeur minimale x_min à partir de laquelle la loi de puissance s'ajuste : 0.035890353407131315\n"
     ]
    }
   ],
   "source": [
    "fit_daily = powerlaw.Fit(np.abs(AAPL_daily[\"Log Returns\"]), discrete=False)\n",
    "print(\"L'exposant de la queue de distribution pour les rendements daily est de\",fit_daily.alpha)\n",
    "print(\"Valeur minimale x_min à partir de laquelle la loi de puissance s'ajuste :\", fit_daily.xmin)"
   ]
  },
  {
   "cell_type": "markdown",
   "metadata": {},
   "source": [
    "On constate ainsi que $\\alpha$ est plus grand que 3, les queues sont lourdes mais les moments sont finis. Plus $\\alpha$ diminue, plus les queues sont lourdes et plus les moments extrêmes sont fréquents. "
   ]
  },
  {
   "cell_type": "markdown",
   "metadata": {},
   "source": [
    "*4. Nous allons ensuite utiliser le paquet powerlaw pour tester la présence d'une queue de type loi de puissance contre les alternatives suivantes : loi exponentielle (heavy tails ?) et loi log-normale (quel type de queue lourde ?).*"
   ]
  },
  {
   "cell_type": "code",
   "execution_count": 55,
   "metadata": {},
   "outputs": [
    {
     "name": "stdout",
     "output_type": "stream",
     "text": [
      "Le test statistique pour les rendements intraday donne un R de 1.2929249894344665 et une p-value de 0.26060401241398035 pour la loi de puissance contre l'exponentielle\n"
     ]
    }
   ],
   "source": [
    "# On teste la présence d'une queue de type loi de puissance contre l'alternative loi exponentielle\n",
    "R_exp_intraday, p_exp_intraday = fit_intraday.distribution_compare('power_law', 'exponential')\n",
    "print(\"Le test statistique pour les rendements intraday donne un R de\",R_exp_intraday,\"et une p-value de\",p_exp_intraday, \"pour la loi de puissance contre l'exponentielle\")"
   ]
  },
  {
   "cell_type": "code",
   "execution_count": null,
   "metadata": {},
   "outputs": [
    {
     "name": "stdout",
     "output_type": "stream",
     "text": [
      "Le test statistique pour les rendements intraday donne un R de 0.00012985264353027048 et un p-value de 0.9408512288879576 pour la loi de puissance contre la loi log-normale\n"
     ]
    }
   ],
   "source": [
    "R_lognorm_intraday, p_lognorm_intraday = fit_intraday.distribution_compare('power_law', 'lognormal')\n",
    "print(\"Le test statistique pour les rendements intraday donne un R de\",R_lognorm_intraday, \"et un p-value de\",p_lognorm_intraday, \"pour la loi de puissance contre la loi log-normale\")"
   ]
  },
  {
   "cell_type": "markdown",
   "metadata": {},
   "source": [
    "Nous constatons donc que par rapport à la loi exponentielle : \n",
    "- R est positif, ce qui veut dire que la loi puissance ajuste mieux les rendements intradays que la loi exponentielle.\n",
    "- p est élevé et supérieur à 0.05 : la différence entre ces distributions n'est pas statistiquement significative donc on ne peut pas raisonnablement rejeter l'hypothèse que la loi exponentielle convient.\n",
    "\n",
    "Par rapport à la loi log-normale : \n",
    "- R est très proche de 0, ce qui veut dire que les deux distributions s'ajustent de manière identique.\n",
    "- p est très élevé et bien supérieur à 0.05 : la différence entre ces distributions n'est pas absolument pas statistiquement significative. \n",
    "\n",
    "Donc, malgré la présence de queues lourdes dans les rendements intraday comme montré précédemment, on ne peut pas dire avec certitude si une loi de puissance est vraiment meilleure qu'une loi exponentielle ou log-normale. "
   ]
  },
  {
   "cell_type": "code",
   "execution_count": 58,
   "metadata": {},
   "outputs": [
    {
     "name": "stdout",
     "output_type": "stream",
     "text": [
      "Le test statistique pour les rendements daily donne un R de 24.93525662959431 et une p-value de 0.35589596820537195 pour la loi de puissance contre l'exponentielle\n"
     ]
    }
   ],
   "source": [
    "# On teste la présence d'une queue de type loi de puissance contre l'alternative loi exponentielle\n",
    "R_exp_daily, p_exp_daily = fit_daily.distribution_compare('power_law', 'exponential')\n",
    "print(\"Le test statistique pour les rendements daily donne un R de\",R_exp_daily,\"et une p-value de\",p_exp_daily, \"pour la loi de puissance contre l'exponentielle\")"
   ]
  },
  {
   "cell_type": "code",
   "execution_count": 59,
   "metadata": {},
   "outputs": [
    {
     "name": "stdout",
     "output_type": "stream",
     "text": [
      "Le test statistique pour les rendements daily donne un R de -4.154853888603119 et un p-value de 0.29248759875726316 pour la loi de puissance contre la loi log-normale\n"
     ]
    }
   ],
   "source": [
    "R_lognorm_daily, p_lognorm_daily = fit_daily.distribution_compare('power_law', 'lognormal')\n",
    "print(\"Le test statistique pour les rendements daily donne un R de\",R_lognorm_daily, \"et un p-value de\",p_lognorm_daily, \"pour la loi de puissance contre la loi log-normale\")"
   ]
  },
  {
   "cell_type": "markdown",
   "metadata": {},
   "source": [
    "Nous constatons donc que par rapport à la loi exponentielle : \n",
    "- R est positif et très élevé, ce qui veut dire que la loi puissance ajuste bien mieux les rendements daily que la loi exponentielle.\n",
    "- p est élevé et supérieur à 0.05 : la différence entre ces distributions n'est pas statistiquement significative donc on ne peut pas raisonnablement rejeter l'hypothèse que la loi exponentielle convient.\n",
    "\n",
    "Par rapport à la loi log-normale : \n",
    "- R est négatif, ce qui veut dire que la loi log-normale est mieux ajustée que la loi puissance pour les rendements daily.\n",
    "- p est élevé et supérieur à 0.05 : la différence entre ces distributions n'est donc pas statistiquement significative. \n",
    "\n",
    "Donc, malgré la présence de queues lourdes dans les rendements daily comme montré précédemment, on peut penser que la loi log-normale ajuste mieux que la loi de puissance, et bien mieux que la loi exponentielle qui semble être un très mauvais candidat, même s'il est impossible de totalement rejeter une loi en faveur d'une autre. "
   ]
  },
  {
   "cell_type": "markdown",
   "metadata": {},
   "source": [
    "#### 4.2 Distribution des rendements dans les marchés en périodes de hausse et de baisse"
   ]
  },
  {
   "cell_type": "markdown",
   "metadata": {},
   "source": [
    "*Nous allons nous intéresser aux titres suivants : ^GSPC, AMD, MSFT, INTC, et C depuis 2000-01-01 en données journalières.*"
   ]
  },
  {
   "cell_type": "markdown",
   "metadata": {},
   "source": [
    "*1. D'abord, nous allons chercher les maxima et les minima locaux en utilisant scipy.signal.find_peaks.*"
   ]
  },
  {
   "cell_type": "code",
   "execution_count": 65,
   "metadata": {},
   "outputs": [
    {
     "name": "stderr",
     "output_type": "stream",
     "text": [
      "[*********************100%***********************]  1 of 1 completed\n",
      "[*********************100%***********************]  1 of 1 completed\n",
      "[*********************100%***********************]  1 of 1 completed\n",
      "[*********************100%***********************]  1 of 1 completed\n",
      "[*********************100%***********************]  1 of 1 completed\n"
     ]
    },
    {
     "data": {
      "image/png": "[encoded data removed]",
      "text/plain": [
       "<Figure size 432x288 with 1 Axes>"
      ]
     },
     "metadata": {
      "needs_background": "light"
     },
     "output_type": "display_data"
    },
    {
     "data": {
      "image/png": "[encoded data removed]",
      "text/plain": [
       "<Figure size 432x288 with 1 Axes>"
      ]
     },
     "metadata": {
      "needs_background": "light"
     },
     "output_type": "display_data"
    },
    {
     "data": {
      "image/png": "[encoded data removed]",
      "text/plain": [
       "<Figure size 432x288 with 1 Axes>"
      ]
     },
     "metadata": {
      "needs_background": "light"
     },
     "output_type": "display_data"
    },
    {
     "data": {
      "image/png": "[encoded data removed]",
      "text/plain": [
       "<Figure size 432x288 with 1 Axes>"
      ]
     },
     "metadata": {
      "needs_background": "light"
     },
     "output_type": "display_data"
    },
    {
     "data": {
      "image/png": "[encoded data removed]",
      "text/plain": [
       "<Figure size 432x288 with 1 Axes>"
      ]
     },
     "metadata": {
      "needs_background": "light"
     },
     "output_type": "display_data"
    }
   ],
   "source": [
    "GPSC_daily = yf.download('^GSPC', start='2000-01-01', end='2025-01-01') # S&P 500\n",
    "AMD_daily = yf.download('AMD', start='2000-01-01', end='2025-01-01') # Advanced Micro Devices\n",
    "MSFT_daily = yf.download('MSFT', start='2000-01-01', end='2025-01-01') # Microsoft\n",
    "INTL_daily = yf.download('INTL', start='2000-01-01', end='2025-01-01') # Intel Corporation\n",
    "C_daily = yf.download('C', start='2000-01-01', end='2025-01-01') # Citigroup\n",
    "GPSC_daily['Close'].plot()\n",
    "AMD_daily['Close'].plot()\n",
    "MSFT_daily['Close'].plot()\n",
    "INTL_daily['Close'].plot()\n",
    "C_daily['Close'].plot()\n",
    "plt.show()"
   ]
  },
  {
   "cell_type": "code",
   "execution_count": 86,
   "metadata": {},
   "outputs": [
    {
     "data": {
      "text/plain": [
       "(array([  57,  169,  348,  502,  661,  729,  866,  963, 1031, 1122, 1299,\n",
       "        1403, 1514, 1593, 1714, 1791, 1863, 1952, 2105, 2265, 2374, 2525,\n",
       "        2591, 2848, 2975, 3081, 3196, 3301, 3365, 3448, 3583, 3661, 3869,\n",
       "        3984, 4099, 4180, 4316, 4545, 4639, 4709, 4921, 5063, 5200, 5298,\n",
       "        5370, 5452, 5536, 5691, 5808, 5930, 6097, 6171, 6272], dtype=int64),\n",
       " array([  37,  245,  316,  430,  525,  694,  798,  900,  976, 1157, 1330,\n",
       "        1453, 1532, 1619, 1800, 1914, 1985, 2056, 2144, 2307, 2393, 2472,\n",
       "        2539, 2640, 2817, 2880, 2956, 3123, 3238, 3388, 3542, 3719, 3782,\n",
       "        3935, 4052, 4238, 4347, 4435, 4589, 4774, 4883, 5086, 5241, 5473,\n",
       "        5580, 5650, 5731, 5834, 5993, 6185], dtype=int64))"
      ]
     },
     "execution_count": 86,
     "metadata": {},
     "output_type": "execute_result"
    }
   ],
   "source": [
    "# Recherche des maxima et minima locaux avec scipy.signal.find_peaks\n",
    "max_GPSC, _ = find_peaks(\n",
    "    GPSC_daily[\"Close\"].values.flatten(), \n",
    "    distance=252/4,   # 252 jours de bourse par an, 4 pics par an environ\n",
    "    prominence=5,   # A ajuster selon la volatilité du marché\n",
    "    width=5         # Pour ne pas capturer de petits pics non significatifs\n",
    ")\n",
    "\n",
    "min_GPSC, _ = find_peaks(\n",
    "    -GPSC_daily[\"Close\"].values.flatten(), \n",
    "    distance=252/4,  \n",
    "    prominence=5,  \n",
    "    width=5        \n",
    ")\n",
    "\n",
    "# On retourne ici les indices des maxima et des minima locaux\n",
    "max_GPSC, min_GPSC"
   ]
  },
  {
   "cell_type": "code",
   "execution_count": 100,
   "metadata": {},
   "outputs": [
    {
     "name": "stdout",
     "output_type": "stream",
     "text": [
      "Les maxima locaux de l'indice S&P 500 sont : [1527.45996094 1520.77001953 1312.82995605 1172.51000977  962.70001221\n",
      "  938.86999512 1011.65997314 1059.02001953 1157.76000977 1144.06005859\n",
      " 1225.31005859 1245.04003906 1294.18005371 1325.76000977 1389.07995605\n",
      " 1459.68005371 1539.18005371 1565.15002441 1426.63000488  934.70001221\n",
      "  946.21002197 1150.22998047 1217.2800293  1363.60998535 1285.08996582\n",
      " 1419.04003906 1465.77001953 1530.93994141 1669.16003418 1725.52001953\n",
      " 1890.90002441 1987.97998047 2130.82006836 2109.79003906 2102.39990234\n",
      " 2190.14990234 2395.95996094 2872.87011719 2786.85009766 2930.75\n",
      " 3025.86010742 3386.14990234 3580.84008789 3855.36010742 4232.60009766\n",
      " 4536.95019531 4796.56005859 4305.20019531 4179.75976562 4588.95996094\n",
      " 5254.35009766 5667.20019531 6090.27001953]\n",
      "Les minima locaux de l'indice S&P 500 sont : [1333.35998535 1264.73999023 1103.25        965.79998779 1080.17004395\n",
      "  776.76000977  800.72998047  965.46002197 1033.65002441 1063.22998047\n",
      " 1137.5        1176.83996582 1254.7800293  1223.68994141 1374.11999512\n",
      " 1406.69995117 1407.2199707  1273.36999512 1214.91003418  676.5300293\n",
      "  879.13000488 1036.18994141 1056.73999023 1022.58001709 1256.88000488\n",
      " 1265.42004395 1099.22998047 1278.04003906 1353.32995605 1573.08996582\n",
      " 1741.89001465 1862.48999023 1992.67004395 1867.60998535 1829.07995605\n",
      " 2085.17993164 2328.94995117 2425.55004883 2581.87988281 2351.10009766\n",
      " 2744.44995117 2237.39990234 3269.95996094 4300.45996094 4170.70019531\n",
      " 3666.77001953 3577.0300293  3855.76000977 4117.37011719 5186.33007812]\n"
     ]
    }
   ],
   "source": [
    "# Maintenant, on va appliquer ces indices à la fonction pour récupérer les valeurs des maxima et des minima locaux. \n",
    "max_values_GPSC = GPSC_daily[\"Close\"].values[max_GPSC].flatten()\n",
    "min_values_GPSC = GPSC_daily[\"Close\"].values[min_GPSC].flatten()\n",
    "print(\"Les maxima locaux de l'indice S&P 500 sont :\",max_values_GPSC)\n",
    "print(\"Les minima locaux de l'indice S&P 500 sont :\",min_values_GPSC)"
   ]
  },
  {
   "cell_type": "code",
   "execution_count": 102,
   "metadata": {},
   "outputs": [
    {
     "name": "stdout",
     "output_type": "stream",
     "text": [
      "Les maxima locaux de AMD sont : [ 47.5         26.22999954  34.40000153  20.          10.69999981\n",
      "   9.           8.43999958  18.29000092  17.45000076  24.85000038\n",
      "  25.65999985  42.09999847  27.37999916  15.84000015  14.55000019\n",
      "   8.           7.78000021   2.77999997   4.82000017   9.90999985\n",
      "  10.15999985   8.21000004   8.14000034   9.43999958   7.34000015\n",
      "   8.25         2.8499999    4.63999987   4.46999979   4.65999985\n",
      "   3.30999994   3.           7.67000008   8.93999958  15.19999981\n",
      "  14.76000023  13.73999977  32.72000122  34.38999939  58.90000153\n",
      "  56.38999939  92.18000031  97.25        85.41000366 161.91000366\n",
      " 123.23000336 103.91000366  88.30999756 129.19000244 123.84999847\n",
      " 211.38000488 183.96000671 172.80000305]\n",
      "Les minima locaux de AMD sont : [ 13.6875      19.70000076   7.92999983  12.85000038   3.20000005\n",
      "   4.94000006   6.30999994  10.86999989  14.13000011  13.86999989\n",
      "  10.85999966  14.85999966  14.15999985  30.60000038  17.38999939\n",
      "  12.71000004  11.64000034   5.53000021   5.78000021   4.19000006\n",
      "   1.79999995   3.3599999    4.5999999    7.19000006   8.09000015\n",
      "   5.61000013   7.28999996   4.53000021   1.86000001   2.28999996\n",
      "   3.1400001    3.30999994   2.24000001   1.62         1.79999995\n",
      "  10.03999996  12.05000019   9.89999962   9.52999973  16.64999962\n",
      "  24.88999939  27.98999977  38.70999908  50.09999847  74.69999695\n",
      "  73.08999634 100.33999634 102.25        73.66999817  55.93999863\n",
      "  81.62000275  93.66999817 144.27000427 128.66999817]\n"
     ]
    }
   ],
   "source": [
    "# Pour AMD : \n",
    "max_AMD, _ = find_peaks(\n",
    "    AMD_daily[\"Close\"].values.flatten(), \n",
    "    distance=252/4,   \n",
    "    prominence=0.5,   \n",
    "    width=5         \n",
    ")\n",
    "\n",
    "min_AMD, _ = find_peaks(\n",
    "    -AMD_daily[\"Close\"].values.flatten(), \n",
    "    distance=252/4,  \n",
    "    prominence=0.5,  \n",
    "    width=5        \n",
    ")\n",
    "\n",
    "max_values_AMD = AMD_daily[\"Close\"].values[max_AMD].flatten()\n",
    "min_values_AMD = AMD_daily[\"Close\"].values[min_AMD].flatten()\n",
    "print(\"Les maxima locaux de AMD sont :\",max_values_AMD)\n",
    "print(\"Les minima locaux de AMD sont :\",min_values_AMD)"
   ]
  },
  {
   "cell_type": "markdown",
   "metadata": {},
   "source": []
  }
 ],
 "metadata": {
  "kernelspec": {
   "display_name": "base",
   "language": "python",
   "name": "python3"
  },
  "language_info": {
   "codemirror_mode": {
    "name": "ipython",
    "version": 3
   },
   "file_extension": ".py",
   "mimetype": "text/x-python",
   "name": "python",
   "nbconvert_exporter": "python",
   "pygments_lexer": "ipython3",
   "version": "3.8.8"
  }
 },
 "nbformat": 4,
 "nbformat_minor": 2
}
