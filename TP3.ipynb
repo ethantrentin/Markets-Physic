{
 "cells": [
  {
   "cell_type": "markdown",
   "id": "f2cf3583e3898760",
   "metadata": {
    "collapsed": false
   },
   "source": [
    "# TP2.2 : Stratégies d’investissement (bis)\n",
    "Notebook fait par Alexandre Boistard, Ethan Trentin."
   ]
  },
  {
   "cell_type": "code",
   "execution_count": 2,
   "id": "acd38aee1883a3e7",
   "metadata": {
    "ExecuteTime": {
     "end_time": "2025-03-11T09:48:08.346329500Z",
     "start_time": "2025-03-11T09:48:07.725853100Z"
    },
    "collapsed": false
   },
   "outputs": [],
   "source": [
    "import yfinance as yf\n",
    "import pandas as pd\n",
    "import numpy as np \n",
    "import matplotlib.pyplot as plt\n",
    "import math\n",
    "import seaborn as sns\n",
    "from tqdm import tqdm"
   ]
  },
  {
   "cell_type": "markdown",
   "id": "d3093f5c",
   "metadata": {},
   "source": [
    "#### Détection de stratégies valables"
   ]
  },
  {
   "cell_type": "code",
   "execution_count": 12,
   "id": "413dd010f5984b3f",
   "metadata": {
    "ExecuteTime": {
     "end_time": "2025-03-11T09:57:13.212998600Z",
     "start_time": "2025-03-11T09:57:08.334692700Z"
    },
    "collapsed": false
   },
   "outputs": [
    {
     "name": "stdout",
     "output_type": "stream",
     "text": [
      "        index         A        AA      AABA       ABC       ABT      ADBE  \\\n",
      "0  2006-01-03  0.006308  0.011160  0.044155  0.020773  0.003043  0.049784   \n",
      "1  2006-01-04  0.002687  0.005686  0.001467 -0.006626  0.001517 -0.009794   \n",
      "2  2006-01-05  0.026198  0.007981  0.013669 -0.012387  0.010856 -0.009110   \n",
      "3  2006-01-06  0.005222 -0.003299  0.040453 -0.011095  0.021229  0.024429   \n",
      "4  2006-01-09 -0.002886  0.011255  0.004860  0.000000  0.037173 -0.015641   \n",
      "\n",
      "        ADI       ADP      ADSK  ...  WU        WY       XEL        XL  \\\n",
      "0  0.023139  0.009368 -0.004657  ... NaN  0.004522  0.005959  0.012615   \n",
      "1  0.009264  0.003238 -0.005951  ... NaN  0.024160  0.004847  0.020519   \n",
      "2  0.031857 -0.008391 -0.014722  ... NaN -0.008791 -0.000536 -0.001867   \n",
      "3  0.003925  0.008679  0.057798  ... NaN  0.001478  0.003753  0.001583   \n",
      "4  0.014073 -0.002581 -0.014676  ... NaN -0.002362 -0.002671  0.006752   \n",
      "\n",
      "       XLNX       XOM       XRX       YUM       ZBH      ZION  \n",
      "0  0.022213  0.040947  0.017747 -0.002773  0.015421  0.012176  \n",
      "1  0.044610  0.001710 -0.001341  0.008556  0.009492  0.007061  \n",
      "2  0.060566 -0.004951 -0.010745  0.042630 -0.010560  0.009089  \n",
      "3  0.019615  0.019732 -0.006110 -0.002848 -0.005117  0.010422  \n",
      "4 -0.000687 -0.000505  0.013661  0.007752  0.035415 -0.008277  \n",
      "\n",
      "[5 rows x 329 columns]\n"
     ]
    }
   ],
   "source": [
    "# Question 1. import des données\n",
    "df = pd.read_parquet(\"sp500_20161229.parquet\")\n",
    "print(df.head())"
   ]
  },
  {
   "cell_type": "code",
   "execution_count": 13,
   "id": "initial_id",
   "metadata": {
    "ExecuteTime": {
     "end_time": "2025-03-11T09:48:08.367441700Z",
     "start_time": "2025-03-11T09:48:08.348418200Z"
    },
    "collapsed": true
   },
   "outputs": [],
   "source": [
    "# Question 2. Nous allons d'abord utiliser la fonction du TP2 permettant de récupérer les signaux \n",
    "# de la stratégie EMA Crosssover\n",
    "def ema_crossover_strategy(df, tickers, short_window, long_window):\n",
    "    signals = pd.DataFrame(index=df.index)\n",
    "    for stock in tickers:\n",
    "        # Compute the short and long EMAs. Change half_life to span if desired.\n",
    "        signals[stock + \" Short EMA\"] = df[stock].ewm(halflife =short_window).mean()\n",
    "        signals[stock + \" Long EMA\"] = df[stock].ewm(halflife =long_window).mean()\n",
    "        # Generate signals: 1 if short EMA > long EMA, else -1.\n",
    "        signals[stock + \" Signal\"] = np.where(\n",
    "            signals[stock + \" Short EMA\"] > signals[stock + \" Long EMA\"],\n",
    "            1,\n",
    "            -1\n",
    "        )\n",
    "    return signals"
   ]
  },
  {
   "cell_type": "code",
   "execution_count": null,
   "id": "dc8c414a",
   "metadata": {},
   "outputs": [],
   "source": [
    "# Maintenant, définissons la fonction permettant de calculer les rendements de la stratégie\n",
    "# Par rapport au TP2, on va appliquer des coûts de transaction.\n",
    "def compute_mean_log_return_with_transactions_costs(df, signals, stock):\n",
    "    df_copy = df.copy()\n",
    "    df_copy[stock + '_log_return'] = np.log(df_copy[stock] / df_copy[stock].shift(1))\n",
    "    df_copy[stock + '_Strategy_log_return'] = signals[stock + ' Signal'].shift(1) * df_copy[stock + '_log_return']\n",
    "    return df_copy[stock + '_Strategy_log_return'].mean()"
   ]
  },
  {
   "cell_type": "code",
   "execution_count": null,
   "id": "13ad0678",
   "metadata": {},
   "outputs": [],
   "source": [
    "# Calculons la performance avec coûts de transaction de 25 couples de paramètres pour la stratégie ema_crossover_strategy sur chacun des titres des données. \n",
    "# Les paramètres sont choisis de manière à couvrir une plage de valeurs raisonnables pour les fenêtres courtes et longues.\n",
    "A_values = np.linspace(1, 100, 100)  # Short window values\n",
    "B_values = np.linspace(2, 101, 100)  # Long window values\n",
    "#tickers = tickers \n",
    "tickers = [\"^STOXX50E\"]\n",
    "def compute_mean_log_return(df, signals, stock):\n",
    "    df_copy = df.copy()\n",
    "    df_copy[stock + '_log_return'] = np.log(df_copy[stock] / df_copy[stock].shift(1))\n",
    "    df_copy[stock + '_Strategy_log_return'] = signals[stock + ' Signal'].shift(1) * df_copy[stock + '_log_return']\n",
    "    return df_copy[stock + '_Strategy_log_return'].mean()\n",
    "\n",
    "for stock in tickers:\n",
    "    heatmap_data = np.full((len(B_values), len(A_values)), np.nan)\n",
    "    for j, b in tqdm(enumerate(B_values), total=len(B_values), desc=f\"Processing {stock} \"):\n",
    "        for i, a in enumerate(A_values):\n",
    "            if int(a) < int(b):\n",
    "                signals = ema_crossover_strategy(df, [stock], int(a), int(b))\n",
    "                mean_return = compute_mean_log_return(df, signals, stock)\n",
    "                heatmap_data[j, i] = mean_return\n",
    "    df_heatmap = pd.DataFrame(heatmap_data, index=B_values, columns=A_values)\n",
    "    plt.figure(figsize=(10, 6))\n",
    "    sns.heatmap(df_heatmap, annot=False, fmt=\".4f\", cmap=\"viridis\", center=0)\n",
    "    plt.title(f\"Mean Daily Log Return for {stock}\")\n",
    "    plt.xlabel(\"Short Window (a)\")\n",
    "    plt.ylabel(\"Long Window (b)\")\n",
    "    plt.tight_layout()\n",
    "    plt.show()\n"
   ]
  },
  {
   "cell_type": "code",
   "execution_count": 3,
   "id": "787750a407505f2c",
   "metadata": {
    "ExecuteTime": {
     "end_time": "2025-03-11T09:48:08.400745100Z",
     "start_time": "2025-03-11T09:48:08.362508800Z"
    },
    "collapsed": false
   },
   "outputs": [],
   "source": [
    "def mean_revert_strategy(df, tickers, time_window, k):\n",
    "    signals = pd.DataFrame(index=df.index)\n",
    "    for stock in tickers:\n",
    "        # Compute the MA.\n",
    "        signals[stock + \" MA\"] = df[stock].rolling(window=time_window).mean()\n",
    "        # Generate signals: -1 if > k*simga, 0 between, else 1.\n",
    "        signals[stock + \" Signal\"] = np.where(\n",
    "            df[stock] > signals[stock + \" MA\"] + k * df[stock].rolling(window=time_window).std(),\n",
    "            -1,\n",
    "            np.where(\n",
    "                df[stock] < signals[stock + \" MA\"] - k * df[stock].rolling(window=time_window).std(),\n",
    "                1,\n",
    "                0\n",
    "            )\n",
    "        )\n",
    "    return signals"
   ]
  },
  {
   "cell_type": "code",
   "execution_count": null,
   "id": "ba95566b2bfd250c",
   "metadata": {
    "collapsed": false
   },
   "outputs": [],
   "source": [
    "# calculer la performance des stratégies\n",
    "def compute_performance(df,strategy,metric='avg_log_return'):\n",
    "    df_ = df.copy()\n",
    "    for ticker in df_.colums().remove('index'):\n",
    "        signals = strategy(df_,[ticker],*args)"
   ]
  }
 ],
 "metadata": {
  "kernelspec": {
   "display_name": "Python 3",
   "language": "python",
   "name": "python3"
  },
  "language_info": {
   "codemirror_mode": {
    "name": "ipython",
    "version": 2
   },
   "file_extension": ".py",
   "mimetype": "text/x-python",
   "name": "python",
   "nbconvert_exporter": "python",
   "pygments_lexer": "ipython2",
   "version": "2.7.6"
  }
 },
 "nbformat": 4,
 "nbformat_minor": 5
}
