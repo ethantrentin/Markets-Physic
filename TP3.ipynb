{
 "cells": [
  {
   "cell_type": "markdown",
   "source": [
    "# TP2.2 : Stratégies d’investissement (bis)\n",
    "Notebook fait par Alexandre Boistard, Ethan Trentin."
   ],
   "metadata": {
    "collapsed": false
   },
   "id": "f2cf3583e3898760"
  },
  {
   "cell_type": "code",
   "outputs": [],
   "source": [
    "import yfinance as yf\n",
    "import pandas as pd\n",
    "import numpy as np \n",
    "import matplotlib.pyplot as plt\n",
    "import math\n",
    "import seaborn as sns\n",
    "from tqdm import tqdm"
   ],
   "metadata": {
    "collapsed": false,
    "ExecuteTime": {
     "end_time": "2025-03-11T09:48:08.346329500Z",
     "start_time": "2025-03-11T09:48:07.725853100Z"
    }
   },
   "id": "acd38aee1883a3e7",
   "execution_count": 1
  },
  {
   "cell_type": "code",
   "execution_count": 2,
   "id": "initial_id",
   "metadata": {
    "collapsed": true,
    "ExecuteTime": {
     "end_time": "2025-03-11T09:48:08.367441700Z",
     "start_time": "2025-03-11T09:48:08.348418200Z"
    }
   },
   "outputs": [],
   "source": [
    "# Question 1. Nous allons d'abord implémenter des stratégies du tp 2.1\n",
    "def ema_crossover_strategy(df, tickers, short_window, long_window):\n",
    "    signals = pd.DataFrame(index=df.index)\n",
    "    for stock in tickers:\n",
    "        # Compute the short and long EMAs. Change half_life to span if desired.\n",
    "        signals[stock + \" Short EMA\"] = df[stock].ewm(halflife =short_window).mean()\n",
    "        signals[stock + \" Long EMA\"] = df[stock].ewm(halflife =long_window).mean()\n",
    "        # Generate signals: 1 if short EMA > long EMA, else -1.\n",
    "        signals[stock + \" Signal\"] = np.where(\n",
    "            signals[stock + \" Short EMA\"] > signals[stock + \" Long EMA\"],\n",
    "            1,\n",
    "            -1\n",
    "        )\n",
    "    return signals"
   ]
  },
  {
   "cell_type": "code",
   "outputs": [],
   "source": [
    "def mean_revert_strategy(df, tickers, time_window, k):\n",
    "    signals = pd.DataFrame(index=df.index)\n",
    "    for stock in tickers:\n",
    "        # Compute the MA.\n",
    "        signals[stock + \" MA\"] = df[stock].rolling(window=time_window).mean()\n",
    "        # Generate signals: -1 if > k*simga, 0 between, else 1.\n",
    "        signals[stock + \" Signal\"] = np.where(\n",
    "            df[stock] > signals[stock + \" MA\"] + k * df[stock].rolling(window=time_window).std(),\n",
    "            -1,\n",
    "            np.where(\n",
    "                df[stock] < signals[stock + \" MA\"] - k * df[stock].rolling(window=time_window).std(),\n",
    "                1,\n",
    "                0\n",
    "            )\n",
    "        )\n",
    "    return signals"
   ],
   "metadata": {
    "collapsed": false,
    "ExecuteTime": {
     "end_time": "2025-03-11T09:48:08.400745100Z",
     "start_time": "2025-03-11T09:48:08.362508800Z"
    }
   },
   "id": "787750a407505f2c",
   "execution_count": 3
  }
 ],
 "metadata": {
  "kernelspec": {
   "display_name": "Python 3",
   "language": "python",
   "name": "python3"
  },
  "language_info": {
   "codemirror_mode": {
    "name": "ipython",
    "version": 2
   },
   "file_extension": ".py",
   "mimetype": "text/x-python",
   "name": "python",
   "nbconvert_exporter": "python",
   "pygments_lexer": "ipython2",
   "version": "2.7.6"
  }
 },
 "nbformat": 4,
 "nbformat_minor": 5
}
